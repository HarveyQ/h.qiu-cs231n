{
 "cells": [
  {
   "cell_type": "markdown",
   "metadata": {},
   "source": [
    "# Two Layer Neural Network\n",
    "# hyperparameter tuning\n",
    "This new notebook is to:\n",
    "1. clean up the cs231n official note\n",
    "2. isolate the tuning part of the work."
   ]
  },
  {
   "cell_type": "code",
   "execution_count": 1,
   "metadata": {},
   "outputs": [],
   "source": [
    "# A bit of setup\n",
    "import numpy as np\n",
    "import matplotlib.pyplot as plt\n",
    "from __future__ import print_function\n",
    "import copy\n",
    "\n",
    "from cs231n.classifiers.neural_net import TwoLayerNet\n",
    "from cs231n.classifiers.neural_net_tunning import hyper_params_comb, net_tuning\n",
    "\n",
    "%matplotlib inline\n",
    "plt.rcParams['figure.figsize'] = (10.0, 8.0) # set default size of plots\n",
    "plt.rcParams['image.interpolation'] = 'nearest'\n",
    "plt.rcParams['image.cmap'] = 'gray'\n",
    "\n",
    "# for auto-reloading external modules\n",
    "# see http://stackoverflow.com/questions/1907993/autoreload-of-modules-in-ipython\n",
    "%load_ext autoreload\n",
    "%autoreload 2\n",
    "\n",
    "# some of the functions that might come in handy later\n",
    "def rel_error(x, y):\n",
    "    \"\"\" returns relative error \"\"\"\n",
    "    return np.max(np.abs(x - y) / (np.maximum(1e-8, np.abs(x) + np.abs(y))))"
   ]
  },
  {
   "cell_type": "code",
   "execution_count": 2,
   "metadata": {},
   "outputs": [
    {
     "name": "stdout",
     "output_type": "stream",
     "text": [
      "Train data shape:  (49000, 3072)\n",
      "Train labels shape:  (49000,)\n",
      "Validation data shape:  (1000, 3072)\n",
      "Validation labels shape:  (1000,)\n",
      "Test data shape:  (1000, 3072)\n",
      "Test labels shape:  (1000,)\n"
     ]
    }
   ],
   "source": [
    "# load CIFAR-10 data\n",
    "from cs231n.data_utils import load_CIFAR10, get_CIFAR10_data\n",
    "\n",
    "data_set = get_CIFAR10_data()\n",
    "\n",
    "# unpack the data\n",
    "X_train = data_set['X_train']\n",
    "y_train = data_set['y_train']\n",
    "X_val = data_set['X_val']\n",
    "y_val = data_set['y_val']\n",
    "X_test = data_set['X_test']\n",
    "y_test = data_set['y_test']\n",
    "\n",
    "# check dimensions\n",
    "print('Train data shape: ', X_train.shape)\n",
    "print('Train labels shape: ', y_train.shape)\n",
    "print('Validation data shape: ', X_val.shape)\n",
    "print('Validation labels shape: ', y_val.shape)\n",
    "print('Test data shape: ', X_test.shape)\n",
    "print('Test labels shape: ', y_test.shape)"
   ]
  },
  {
   "cell_type": "code",
   "execution_count": null,
   "metadata": {},
   "outputs": [
    {
     "name": "stdout",
     "output_type": "stream",
     "text": [
      "Dev data shape:  (500, 3072)\n",
      "Dev labels shape:  (500,)\n",
      "Caution: using full training dataset!\n"
     ]
    }
   ],
   "source": [
    "# build the developing dataset\n",
    "num_dev = 500\n",
    "mask_dev = np.random.choice(X_train.shape[0], num_dev, replace=False)\n",
    "X_dev = X_train[mask_dev]\n",
    "y_dev = y_train[mask_dev]\n",
    "print('Dev data shape: ', X_dev.shape)\n",
    "print('Dev labels shape: ', y_dev.shape)\n",
    "\n",
    "# use developing data if dev_mode is on\n",
    "dev_mode = False  # developing mode flag: True(on) or False(off)\n",
    "if dev_mode:\n",
    "    X_train = X_dev\n",
    "    y_train = y_dev\n",
    "    print('Notice: using dev dataset!')\n",
    "else:\n",
    "    print('Caution: using full training dataset!')"
   ]
  },
  {
   "cell_type": "markdown",
   "metadata": {},
   "source": [
    "**Note that all list/array of hyperparameters are arranged in the order of:  \n",
    "[hidden_size, learning_rate, num_epochs, reg]**"
   ]
  },
  {
   "cell_type": "code",
   "execution_count": null,
   "metadata": {},
   "outputs": [
    {
     "name": "stdout",
     "output_type": "stream",
     "text": [
      "iteration 100 / 1225: loss 1.956312\n",
      "iteration 200 / 1225: loss 1.840139\n",
      "number of epochs completed: 1\n",
      "iteration 300 / 1225: loss 1.747287\n",
      "iteration 400 / 1225: loss 1.628935\n",
      "number of epochs completed: 2\n",
      "iteration 500 / 1225: loss 1.608940\n",
      "iteration 600 / 1225: loss 1.513103\n",
      "iteration 700 / 1225: loss 1.585361\n",
      "number of epochs completed: 3\n",
      "iteration 800 / 1225: loss 1.554764\n",
      "iteration 900 / 1225: loss 1.512797\n",
      "number of epochs completed: 4\n",
      "iteration 1000 / 1225: loss 1.580016\n",
      "iteration 1100 / 1225: loss 1.679246\n",
      "iteration 1200 / 1225: loss 1.448100\n",
      "number of epochs completed: 5\n",
      "Hyperparameter combinations completed: 1 / 11\n",
      "\n",
      "iteration 100 / 1225: loss 1.921875\n",
      "iteration 200 / 1225: loss 1.800733\n",
      "number of epochs completed: 1\n",
      "iteration 300 / 1225: loss 1.661400\n",
      "iteration 400 / 1225: loss 1.656399\n",
      "number of epochs completed: 2\n",
      "iteration 500 / 1225: loss 1.628341\n",
      "iteration 600 / 1225: loss 1.711735\n",
      "iteration 700 / 1225: loss 1.560009\n",
      "number of epochs completed: 3\n",
      "iteration 800 / 1225: loss 1.658787\n",
      "iteration 900 / 1225: loss 1.584038\n",
      "number of epochs completed: 4\n",
      "iteration 1000 / 1225: loss 1.616288\n",
      "iteration 1100 / 1225: loss 1.423176\n",
      "iteration 1200 / 1225: loss 1.516772\n",
      "number of epochs completed: 5\n",
      "Hyperparameter combinations completed: 2 / 11\n",
      "\n"
     ]
    }
   ],
   "source": [
    "# 1.1 hidden size: coarse search\n",
    "\n",
    "# set range of tuning for hyperparameters\n",
    "hidden_size_range = np.arange(50, 151, 10)\n",
    "learning_rate_range = [1e-3]\n",
    "num_epochs_range = [5]\n",
    "reg_range = [0.25]\n",
    "# drop = 1  # single on/off flag\n",
    "\n",
    "hyper_params_range = [hidden_size_range, learning_rate_range, num_epochs_range, reg_range]\n",
    "\n",
    "# net model tuning\n",
    "hyper_params_list = hyper_params_comb(hyper_params_range)\n",
    "best_net, results = net_tuning(X_train, y_train, \n",
    "                               X_val, y_val, \n",
    "                               hyper_params_list, verbose=True)\n",
    "\n",
    "train_acc_history = [results[hyper_params][0] for hyper_params in results]\n",
    "val_acc_history = [results[hyper_params][1] for hyper_params in results]\n",
    "\n",
    "# visualise of results: hidden_size vs train/val accuracy\n",
    "plt.plot(hidden_size_range, train_acc_history, label='train')\n",
    "plt.plot(hidden_size_range, val_acc_history, label='val')\n",
    "plt.title('Coarse tuning of hidden size')\n",
    "plt.legend()\n",
    "plt.show()"
   ]
  },
  {
   "cell_type": "code",
   "execution_count": null,
   "metadata": {
    "collapsed": true
   },
   "outputs": [],
   "source": [
    "# # 1.2 hidden size: fine tuning\n",
    "# # set the fine tuning range for hidden size\n",
    "# # this range should be based on the result acquired in the coarse search above\n",
    "# hidden_size_range_fine = [100]\n",
    "# learning_rate_range = [1e-3]\n",
    "# num_epochs_range = [5]\n",
    "# reg_range = [0.25]\n",
    "\n",
    "# hyper_params_range = [hidden_size_range_fine, learning_rate_range, num_epochs_range, reg_range]\n",
    "\n",
    "# # net model tuning\n",
    "# hyper_params_list = hyper_params_comb(hyper_params_range)\n",
    "# best_net, results = net_tuning(X_train, y_train, X_val, y_val, hyper_params_list)\n"
   ]
  },
  {
   "cell_type": "code",
   "execution_count": null,
   "metadata": {
    "collapsed": true
   },
   "outputs": [],
   "source": [
    "# 2.1 learning rate: coarse search"
   ]
  },
  {
   "cell_type": "code",
   "execution_count": null,
   "metadata": {
    "collapsed": true
   },
   "outputs": [],
   "source": [
    "# 2.2 learning rate: fine tuning"
   ]
  },
  {
   "cell_type": "code",
   "execution_count": null,
   "metadata": {
    "collapsed": true
   },
   "outputs": [],
   "source": [
    "# 3.1 reg strength: coarse search"
   ]
  },
  {
   "cell_type": "code",
   "execution_count": null,
   "metadata": {
    "collapsed": true
   },
   "outputs": [],
   "source": [
    "# 3.2 reg strength: fine tuning"
   ]
  },
  {
   "cell_type": "code",
   "execution_count": null,
   "metadata": {
    "collapsed": true
   },
   "outputs": [],
   "source": [
    "# combined fine tuning"
   ]
  },
  {
   "cell_type": "code",
   "execution_count": null,
   "metadata": {
    "collapsed": true
   },
   "outputs": [],
   "source": [
    "# dropout"
   ]
  },
  {
   "cell_type": "code",
   "execution_count": null,
   "metadata": {
    "collapsed": true
   },
   "outputs": [],
   "source": [
    "# Adam"
   ]
  }
 ],
 "metadata": {
  "kernelspec": {
   "display_name": "Python [conda env:cs231n-py35]",
   "language": "python",
   "name": "conda-env-cs231n-py35-py"
  },
  "language_info": {
   "codemirror_mode": {
    "name": "ipython",
    "version": 3
   },
   "file_extension": ".py",
   "mimetype": "text/x-python",
   "name": "python",
   "nbconvert_exporter": "python",
   "pygments_lexer": "ipython3",
   "version": "3.5.3"
  }
 },
 "nbformat": 4,
 "nbformat_minor": 2
}
