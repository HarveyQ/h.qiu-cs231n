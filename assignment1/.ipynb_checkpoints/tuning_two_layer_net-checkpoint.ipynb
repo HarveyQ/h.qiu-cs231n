{
 "cells": [
  {
   "cell_type": "markdown",
   "metadata": {},
   "source": [
    "# Two Layer Neural Network\n",
    "# hyperparameter tuning\n",
    "This new notebook is to:\n",
    "1. clean up the cs231n official note\n",
    "2. isolate the tuning part of the work."
   ]
  },
  {
   "cell_type": "code",
   "execution_count": 1,
   "metadata": {
    "collapsed": true
   },
   "outputs": [],
   "source": [
    "# A bit of setup\n",
    "import numpy as np\n",
    "import matplotlib.pyplot as plt\n",
    "from __future__ import print_function\n",
    "import copy\n",
    "import time\n",
    "\n",
    "from cs231n.classifiers.neural_net import TwoLayerNet\n",
    "from cs231n.classifiers.neural_net_tunning import hyper_params_comb, net_tuning\n",
    "\n",
    "%matplotlib inline\n",
    "plt.rcParams['figure.figsize'] = (10.0, 8.0) # set default size of plots\n",
    "plt.rcParams['image.interpolation'] = 'nearest'\n",
    "plt.rcParams['image.cmap'] = 'gray'\n",
    "\n",
    "# for auto-reloading external modules\n",
    "# see http://stackoverflow.com/questions/1907993/autoreload-of-modules-in-ipython\n",
    "%load_ext autoreload\n",
    "%autoreload 2\n",
    "\n",
    "# some of the functions that might come in handy later\n",
    "def rel_error(x, y):\n",
    "    \"\"\" returns relative error \"\"\"\n",
    "    return np.max(np.abs(x - y) / (np.maximum(1e-8, np.abs(x) + np.abs(y))))"
   ]
  },
  {
   "cell_type": "code",
   "execution_count": 2,
   "metadata": {
    "collapsed": true
   },
   "outputs": [],
   "source": [
    "# load CIFAR-10 data\n",
    "from cs231n.data_utils import load_CIFAR10, get_CIFAR10_data\n",
    "\n",
    "data_set = get_CIFAR10_data()"
   ]
  },
  {
   "cell_type": "code",
   "execution_count": 3,
   "metadata": {},
   "outputs": [
    {
     "name": "stdout",
     "output_type": "stream",
     "text": [
      "Train data shape:  (49000, 3072)\n",
      "Train labels shape:  (49000,)\n",
      "Validation data shape:  (1000, 3072)\n",
      "Validation labels shape:  (1000,)\n",
      "Test data shape:  (1000, 3072)\n",
      "Test labels shape:  (1000,)\n"
     ]
    }
   ],
   "source": [
    "# unpack the data\n",
    "# re-run this to reload X_train and y_train\n",
    "X_train = data_set['X_train']\n",
    "y_train = data_set['y_train']\n",
    "X_val = data_set['X_val']\n",
    "y_val = data_set['y_val']\n",
    "X_test = data_set['X_test']\n",
    "y_test = data_set['y_test']\n",
    "\n",
    "# check dimensions\n",
    "print('Train data shape: ', X_train.shape)\n",
    "print('Train labels shape: ', y_train.shape)\n",
    "print('Validation data shape: ', X_val.shape)\n",
    "print('Validation labels shape: ', y_val.shape)\n",
    "print('Test data shape: ', X_test.shape)\n",
    "print('Test labels shape: ', y_test.shape)"
   ]
  },
  {
   "cell_type": "code",
   "execution_count": 4,
   "metadata": {},
   "outputs": [
    {
     "name": "stdout",
     "output_type": "stream",
     "text": [
      "Dev data shape:  (500, 3072)\n",
      "Dev labels shape:  (500,)\n",
      "Caution: using full training dataset!\n"
     ]
    }
   ],
   "source": [
    "# build the developing dataset\n",
    "num_dev = 500\n",
    "mask_dev = np.random.choice(X_train.shape[0], num_dev, replace=False)\n",
    "X_dev = X_train[mask_dev]\n",
    "y_dev = y_train[mask_dev]\n",
    "print('Dev data shape: ', X_dev.shape)\n",
    "print('Dev labels shape: ', y_dev.shape)\n",
    "\n",
    "# use developing data if dev_mode is on\n",
    "dev_mode = False  # developing mode flag: True(on) or False(off)\n",
    "if dev_mode:\n",
    "    X_train = X_dev\n",
    "    y_train = y_dev\n",
    "    print('Notice: using dev dataset!')\n",
    "else:\n",
    "    print('Caution: using full training dataset!')"
   ]
  },
  {
   "cell_type": "markdown",
   "metadata": {},
   "source": [
    "**Note that all list/array of hyperparameters are arranged in the order of:  \n",
    "[hidden_size, learning_rate, num_epochs, reg]**"
   ]
  },
  {
   "cell_type": "markdown",
   "metadata": {},
   "source": [
    "### 1. **Hidden size tuning:**  \n",
    "Coarse tuning:  \n",
    "- tried [100~300] for 10 evenly spaced numbers\n",
    "- best validation accuracy: 0.513000 @ H = 210\n",
    "- best training accuracy: 0.533612\n",
    "\n",
    "Fine tuning:  \n",
    "- try [200 - 220] every one\n",
    "- best validation accuracy:   @ H = \n",
    "- best training accuracy:\n"
   ]
  },
  {
   "cell_type": "code",
   "execution_count": null,
   "metadata": {},
   "outputs": [],
   "source": [
    "# 1.1 hidden size: coarse search\n",
    "# set range of tuning for hyperparameters\n",
    "hidden_size_range = np.arange(201, 221, 1)\n",
    "learning_rate_range = [1e-3]\n",
    "num_epochs_range = [5]\n",
    "reg_range = [0.25]\n",
    "# drop = 1  # single on/off flag\n",
    "# drop_prob = 0.5\n",
    "\n",
    "\n",
    "hyper_params_range = [hidden_size_range, \n",
    "                      learning_rate_range, \n",
    "                      num_epochs_range, \n",
    "                      reg_range]\n",
    "\n",
    "# net model tuning\n",
    "hyper_params_list = hyper_params_comb(hyper_params_range)\n",
    "print('Number of hyperparms to tune: %d' % len(hyper_params_list))\n",
    "tic = time.time()\n",
    "best_net, results = net_tuning(X_train, y_train, \n",
    "                               X_val, y_val, \n",
    "                               hyper_params_list, verbose=False)\n",
    "toc = time.time()\n",
    "\n",
    "# time\n",
    "print()\n",
    "print('Number of hyperparams to tune: %d' % len(hyper_params_list))\n",
    "print('Total time used: %f (seconds)' % (toc-tic))\n",
    "print('Total time per hyperparam: %f(seconds)' % (toc-tic)/len(hyper_params_list) )\n",
    "print()\n",
    "\n",
    "\n",
    "# visualise of results: hidden_size vs train/val accuracy\n",
    "hidden_size_axis = [hyper_params[0] for hyper_params in sorted(results)]\n",
    "train_acc_history = [results[hyper_params][0] for hyper_params in sorted(results)]\n",
    "val_acc_history = [results[hyper_params][1] for hyper_params in sorted(results)]\n",
    "\n",
    "plt.plot(hidden_size_axis, val_acc_history, label='val')\n",
    "plt.plot(hidden_size_axis, train_acc_history, label='train')\n",
    "plt.title('Coarse tuning of hidden size')\n",
    "plt.legend()\n",
    "plt.show()"
   ]
  },
  {
   "cell_type": "markdown",
   "metadata": {},
   "source": [
    "### 2. Regluarisation tuning:\n",
    "Notice: fixed hidden size = 210\n",
    "Coarse tuning:  \n",
    "- 1st tuning: 10^[-2~2] for 20 evenly spaced number\n",
    "    - results: 0.498 @ reg = 0.042813\n",
    "    - best results at the lower edge\n",
    "- 2nd tuning: 10^[-5~1] for 20 evenly spaced numbers    \n",
    "    - results: \n"
   ]
  },
  {
   "cell_type": "code",
   "execution_count": null,
   "metadata": {},
   "outputs": [],
   "source": [
    "# 2.1 regularisation: coarse search\n",
    "# coarse search of reg with hidden_size = 210 (best from above)\n",
    "# set range of tuning for hyperparameters\n",
    "reg_range = 10 ** np.linspace(-5, 1, 20)\n",
    "\n",
    "hidden_size_range = [210]\n",
    "learning_rate_range = [1e-3]\n",
    "num_epochs_range = [5]\n",
    "# drop = 1  # single on/off flag\n",
    "# drop_prob = 0.5\n",
    "\n",
    "\n",
    "hyper_params_range = [hidden_size_range, \n",
    "                      learning_rate_range, \n",
    "                      num_epochs_range, \n",
    "                      reg_range]\n",
    "\n",
    "# net model tuning\n",
    "hyper_params_list = hyper_params_comb(hyper_params_range)\n",
    "tic = time.time()\n",
    "best_net, results = net_tuning(X_train, y_train, \n",
    "                               X_val, y_val, \n",
    "                               hyper_params_list, verbose=False)\n",
    "toc = time.time()\n",
    "\n",
    "# time\n",
    "print()\n",
    "print('Number of hyperparams to tune: %d' % len(hyper_params_list))\n",
    "print('Total time used: %f (seconds)' % (toc-tic))\n",
    "print('Total time per hyperparam: %f(seconds)' % (toc-tic)/len(hyper_params_list) )\n",
    "print()\n",
    "\n",
    "# visualise of results: hidden_size vs train/val accuracy\n",
    "reg_axis = [hyper_params[3] for hyper_params in sorted(results)]\n",
    "train_acc_history = [results[hyper_params][0] for hyper_params in sorted(results)]\n",
    "val_acc_history = [results[hyper_params][1] for hyper_params in sorted(results)]\n",
    "\n",
    "plt.subplot(2,1,1)\n",
    "plt.plot(reg_axis, val_acc_history, label='val')\n",
    "plt.plot(reg_axis, train_acc_history, label='train')\n",
    "plt.title('Coarse tuning of regularisation strength')\n",
    "plt.legend()\n",
    "             \n",
    "plt.subplot(2,1,2)\n",
    "plt.plot(np.log(reg_axis), val_acc_history, label='val')\n",
    "plt.plot(np.log(reg_axis), train_acc_history, label='train')\n",
    "plt.title('Coarse tuning of regularisation strength, logirithm axis')\n",
    "plt.legend()\n",
    "plt.show()\n"
   ]
  },
  {
   "cell_type": "code",
   "execution_count": 8,
   "metadata": {
    "collapsed": true
   },
   "outputs": [],
   "source": [
    "# 2.2 learning rate: fine tuning"
   ]
  },
  {
   "cell_type": "code",
   "execution_count": 9,
   "metadata": {
    "collapsed": true
   },
   "outputs": [],
   "source": [
    "# 3.1 reg strength: coarse search"
   ]
  },
  {
   "cell_type": "code",
   "execution_count": 10,
   "metadata": {
    "collapsed": true
   },
   "outputs": [],
   "source": [
    "# 3.2 reg strength: fine tuning"
   ]
  },
  {
   "cell_type": "code",
   "execution_count": 11,
   "metadata": {
    "collapsed": true
   },
   "outputs": [],
   "source": [
    "# combined fine tuning"
   ]
  },
  {
   "cell_type": "code",
   "execution_count": 12,
   "metadata": {
    "collapsed": true
   },
   "outputs": [],
   "source": [
    "# dropout"
   ]
  },
  {
   "cell_type": "code",
   "execution_count": 13,
   "metadata": {
    "collapsed": true
   },
   "outputs": [],
   "source": [
    "# Adam"
   ]
  }
 ],
 "metadata": {
  "kernelspec": {
   "display_name": "Python [conda env:cs231n-py35]",
   "language": "python",
   "name": "conda-env-cs231n-py35-py"
  },
  "language_info": {
   "codemirror_mode": {
    "name": "ipython",
    "version": 3
   },
   "file_extension": ".py",
   "mimetype": "text/x-python",
   "name": "python",
   "nbconvert_exporter": "python",
   "pygments_lexer": "ipython3",
   "version": "3.5.3"
  }
 },
 "nbformat": 4,
 "nbformat_minor": 2
}
