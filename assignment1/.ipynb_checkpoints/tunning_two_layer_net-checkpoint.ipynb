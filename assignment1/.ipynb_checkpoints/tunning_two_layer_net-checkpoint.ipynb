{
 "cells": [
  {
   "cell_type": "markdown",
   "metadata": {},
   "source": [
    "\n",
    "# Two Layer Neural Network\n",
    "# hyperparameter tunning\n",
    "This new notebook is to:\n",
    "1. clean up the cs231n official note\n",
    "2. isolate the tunning part of the work."
   ]
  },
  {
   "cell_type": "code",
   "execution_count": 9,
   "metadata": {
    "scrolled": true
   },
   "outputs": [
    {
     "name": "stdout",
     "output_type": "stream",
     "text": [
      "█\r"
     ]
    },
    {
     "name": "stderr",
     "output_type": "stream",
     "text": [
      "Getting uuid of QR code.\n",
      "Downloading QR code.\n",
      "Please scan the QR code to log in.\n",
      "Please press confirm on your phone.\n",
      "Loading the contact, this may take a little while.\n",
      "Login successfully as 邱华琦 Harvey\n"
     ]
    }
   ],
   "source": [
    "# send wechat message at the end of training\n",
    "import itchat\n",
    "\n",
    "itchat.auto_login()\n",
    "train_flag = False"
   ]
  },
  {
   "cell_type": "code",
   "execution_count": 10,
   "metadata": {},
   "outputs": [
    {
     "name": "stdout",
     "output_type": "stream",
     "text": [
      "The autoreload extension is already loaded. To reload it, use:\n",
      "  %reload_ext autoreload\n"
     ]
    }
   ],
   "source": [
    "# A bit of setup\n",
    "import numpy as np\n",
    "import matplotlib.pyplot as plt\n",
    "from __future__ import print_function\n",
    "import copy\n",
    "import time\n",
    "\n",
    "from cs231n.classifiers.neural_net import TwoLayerNet\n",
    "from cs231n.classifiers.neural_net_tunning import hyper_params_comb, net_tunning\n",
    "\n",
    "%matplotlib inline\n",
    "plt.rcParams['figure.figsize'] = (10.0, 8.0) # set default size of plots\n",
    "plt.rcParams['image.interpolation'] = 'nearest'\n",
    "plt.rcParams['image.cmap'] = 'gray'\n",
    "\n",
    "# for auto-reloading external modules\n",
    "# see http://stackoverflow.com/questions/1907993/autoreload-of-modules-in-ipython\n",
    "%load_ext autoreload\n",
    "%autoreload 2\n",
    "\n",
    "# some of the functions that might come in handy later\n",
    "def rel_error(x, y):\n",
    "    \"\"\" returns relative error \"\"\"\n",
    "    return np.max(np.abs(x - y) / (np.maximum(1e-8, np.abs(x) + np.abs(y))))"
   ]
  },
  {
   "cell_type": "code",
   "execution_count": 11,
   "metadata": {
    "collapsed": true
   },
   "outputs": [],
   "source": [
    "# load CIFAR-10 data\n",
    "from cs231n.data_utils import load_CIFAR10, get_CIFAR10_data\n",
    "\n",
    "data_set = get_CIFAR10_data()"
   ]
  },
  {
   "cell_type": "code",
   "execution_count": 12,
   "metadata": {},
   "outputs": [
    {
     "name": "stdout",
     "output_type": "stream",
     "text": [
      "Train data shape:  (49000, 3072)\n",
      "Train labels shape:  (49000,)\n",
      "Validation data shape:  (1000, 3072)\n",
      "Validation labels shape:  (1000,)\n",
      "Test data shape:  (1000, 3072)\n",
      "Test labels shape:  (1000,)\n"
     ]
    }
   ],
   "source": [
    "# unpack the data\n",
    "# re-run this to reload X_train and y_train\n",
    "X_train = data_set['X_train']\n",
    "y_train = data_set['y_train']\n",
    "X_val = data_set['X_val']\n",
    "y_val = data_set['y_val']\n",
    "X_test = data_set['X_test']\n",
    "y_test = data_set['y_test']\n",
    "\n",
    "# check dimensions\n",
    "print('Train data shape: ', X_train.shape)\n",
    "print('Train labels shape: ', y_train.shape)\n",
    "print('Validation data shape: ', X_val.shape)\n",
    "print('Validation labels shape: ', y_val.shape)\n",
    "print('Test data shape: ', X_test.shape)\n",
    "print('Test labels shape: ', y_test.shape)"
   ]
  },
  {
   "cell_type": "code",
   "execution_count": 13,
   "metadata": {},
   "outputs": [
    {
     "name": "stdout",
     "output_type": "stream",
     "text": [
      "Dev data shape:  (500, 3072)\n",
      "Dev labels shape:  (500,)\n",
      "Notice: using dev dataset!\n"
     ]
    }
   ],
   "source": [
    "# build the developing dataset\n",
    "num_dev = 500\n",
    "mask_dev = np.random.choice(X_train.shape[0], num_dev, replace=False)\n",
    "X_dev = X_train[mask_dev]\n",
    "y_dev = y_train[mask_dev]\n",
    "print('Dev data shape: ', X_dev.shape)\n",
    "print('Dev labels shape: ', y_dev.shape)\n",
    "\n",
    "# use developing data if dev_mode is on\n",
    "dev_mode = True  # developing mode flag: True(on) or False(off)\n",
    "if dev_mode:\n",
    "    X_train = X_dev\n",
    "    y_train = y_dev\n",
    "    print('Notice: using dev dataset!')\n",
    "else:\n",
    "    print('Caution: using full training dataset!')"
   ]
  },
  {
   "cell_type": "markdown",
   "metadata": {},
   "source": [
    "**Note that all list/array of hyperparameters are arranged in the order of:  \n",
    "[hidden_size, learning_rate, num_epochs, reg]**"
   ]
  },
  {
   "cell_type": "markdown",
   "metadata": {},
   "source": [
    "### 0. Computation speed comparison: gcloud vs macbook\n",
    "The quotas on this gcloud VM instance is:\n",
    "- 8 vCPU(s): Intel Xeon @ 2.2 GHz\n",
    "- RAM: 30GB\n",
    "- ROM: 10GB persistent disk\n",
    "\n",
    "On Macbook:  \n",
    "- 1 CPU: Intel(R) Core(TM) i5-5250U CPU @ 1.60GHz (boost 2.7GHz)\n",
    "- 4GB 1600MHz DDR3\n",
    "\n",
    "The following section tests actual running time of training 5 epochs, averaged over 5 runs."
   ]
  },
  {
   "cell_type": "code",
   "execution_count": 14,
   "metadata": {
    "collapsed": true
   },
   "outputs": [],
   "source": [
    "# hidden_size_range = [204]\n",
    "# learning_rate_range = [1e-3]\n",
    "# num_epochs_range = [7]\n",
    "# reg_range = [1.20e-06]\n",
    "\n",
    "# hyper_params_range = [hidden_size_range, learning_rate_range, num_epochs_range, reg_range]\n",
    "# hyper_params_list = hyper_params_comb(hyper_params_range)\n",
    "\n",
    "# tic = time.time()\n",
    "# best_net, results = net_tunning(X_train, y_train, \n",
    "#                                X_val, y_val, \n",
    "#                                hyper_params_list, verbose=False)\n",
    "# toc = time.time()\n",
    "\n",
    "# # time\n",
    "# total_time = float(toc-tic)\n",
    "# avg_time = total_time / len(hyper_params_list)\n",
    "# print('Time elapsed: %f' % (toc-tic))\n",
    "# print('Average per training: %f' % (avg_time))\n",
    "# print()"
   ]
  },
  {
   "cell_type": "markdown",
   "metadata": {},
   "source": [
    "Results (train + val time per 5 epochs):  \n",
    "- on macbook: 94.24 seconds\n",
    "- on gcloud VM: 31.35 seconds"
   ]
  },
  {
   "cell_type": "markdown",
   "metadata": {},
   "source": [
    "### 1. **Hidden size tunning:**  \n",
    "Coarse tunning:  \n",
    "- tried [100~300] for 10 evenly spaced numbers\n",
    "- best validation accuracy: 0.513000 @ H = 210\n",
    "- best training accuracy: 0.533612\n",
    "\n",
    "Fine tunning:  \n",
    "- try [200 - 220] every one\n",
    "- best validation accuracy:   @ H = 204\n",
    "- best training accuracy:\n"
   ]
  },
  {
   "cell_type": "code",
   "execution_count": 15,
   "metadata": {
    "collapsed": true
   },
   "outputs": [],
   "source": [
    "# # 1.1 hidden size: coarse search\n",
    "# # set range of tunning for hyperparameters\n",
    "# hidden_size_range = np.arange(201, 221, 1)\n",
    "# learning_rate_range = [1e-3]\n",
    "# num_epochs_range = [5]\n",
    "# reg_range = [0.25]\n",
    "# # drop = 1  # single on/off flag\n",
    "# # drop_prob = 0.5\n",
    "\n",
    "\n",
    "# hyper_params_range = [hidden_size_range, \n",
    "#                       learning_rate_range, \n",
    "#                       num_epochs_range, \n",
    "#                       reg_range]\n",
    "\n",
    "# # net model tunning\n",
    "# hyper_params_list = hyper_params_comb(hyper_params_range)\n",
    "# print('Number of hyperparms to tune: %d' % len(hyper_params_list))\n",
    "# tic = time.time()\n",
    "# best_net, results = net_tunning(X_train, y_train, \n",
    "#                                X_val, y_val, \n",
    "#                                hyper_params_list, verbose=False)\n",
    "# toc = time.time()\n",
    "\n",
    "# # time\n",
    "# print()\n",
    "# print('Number of hyperparams to tune: %d' % len(hyper_params_list))\n",
    "# print('Total time used: %f (seconds)' % (toc-tic))\n",
    "# print('Total time per hyperparam: %f (seconds)' % (float(toc-tic)/float(len(hyper_params_list))))\n",
    "# print()\n",
    "\n",
    "\n",
    "# # visualise of results: hidden_size vs train/val accuracy\n",
    "# hidden_size_axis = [hyper_params[0] for hyper_params in sorted(results)]\n",
    "# train_acc_history = [results[hyper_params][0] for hyper_params in sorted(results)]\n",
    "# val_acc_history = [results[hyper_params][1] for hyper_params in sorted(results)]\n",
    "\n",
    "# plt.plot(hidden_size_axis, val_acc_history, label='val')\n",
    "# plt.plot(hidden_size_axis, train_acc_history, label='train')\n",
    "# plt.title('Coarse tunning of hidden size')\n",
    "# plt.legend()\n",
    "# plt.show()"
   ]
  },
  {
   "cell_type": "markdown",
   "metadata": {},
   "source": [
    "### 2. Regluarisation running:\n",
    "Notice: fixed hidden size = 210\n",
    "Coarse tunning:  \n",
    "- 1st tunning: 10^[-2~2] for 20 evenly spaced number\n",
    "    - results: best validation accuracy 0.498 @ reg = 0.042813\n",
    "    - best results at the lower edge\n",
    "- 2nd tunning: 10^[-5~1] for 20 evenly spaced numbers    \n",
    "    - results: best validation accuracy 0.521000 @ **reg = 0.003360**\n",
    "    \n",
    "Fine tunning:\n",
    "- 10^[-6 ~ -5] random searching 20 numbers (uniform distribution)\n",
    "    - results: best validation accuracy 0.512 @ **reg = 1.20e-06**"
   ]
  },
  {
   "cell_type": "code",
   "execution_count": 16,
   "metadata": {
    "collapsed": true
   },
   "outputs": [],
   "source": [
    "# # 2.1 regularisation: fine search\n",
    "# # coarse search of reg with hidden_size = 204 (best from above)\n",
    "# # set range of tunning for hyperparameters\n",
    "# # reg_range = 10 ** np.linspace(-5, 1, 20)  # 1st coarse tunning\n",
    "# # reg_range = 10 ** (np.random.uniform(-6, -5, 20)) # 2nd coarse tunning\n",
    "# reg_range = 10 ** (np.random.uniform(-6, -5.8, 10))  # 1st fine tunning\n",
    "\n",
    "# hidden_size_range = [204]\n",
    "# learning_rate_range = [1e-3]\n",
    "# num_epochs_range = [5]\n",
    "# # drop = 1  # single on/off flag\n",
    "# # drop_prob = 0.5\n",
    "\n",
    "\n",
    "# hyper_params_range = [hidden_size_range, \n",
    "#                       learning_rate_range, \n",
    "#                       num_epochs_range, \n",
    "#                       reg_range]\n",
    "\n",
    "# # net model tunning\n",
    "# hyper_params_list = hyper_params_comb(hyper_params_range)\n",
    "# tic = time.time()\n",
    "# best_net, results = net_tunning(X_train, y_train, \n",
    "#                                X_val, y_val, \n",
    "#                                hyper_params_list, verbose=False)\n",
    "# toc = time.time()\n",
    "\n",
    "# # time\n",
    "# print()\n",
    "# print('Number of hyperparams to tune: %d' % len(hyper_params_list))\n",
    "# print('Total time used: %f (seconds)' % (toc-tic))\n",
    "# print('Total time per hyperparam: %f (seconds)' % (float(toc-tic)/float(len(hyper_params_list))))\n",
    "# print()\n",
    "\n",
    "\n",
    "# # visualise of results: hidden_size vs train/val accuracy\n",
    "# reg_axis = [hyper_params[3] for hyper_params in sorted(results)]\n",
    "# train_acc_history = [results[hyper_params][0] for hyper_params in sorted(results)]\n",
    "# val_acc_history = [results[hyper_params][1] for hyper_params in sorted(results)]\n",
    "\n",
    "# plt.subplot(2,1,1)\n",
    "# plt.plot(reg_axis, val_acc_history, label='val')\n",
    "# plt.plot(reg_axis, train_acc_history, label='train')\n",
    "# plt.title('Coarse tunning of regularisation strength')\n",
    "# plt.legend()\n",
    "             \n",
    "# plt.subplot(2,1,2)\n",
    "# plt.plot(np.log10(reg_axis), val_acc_history, label='val')\n",
    "# plt.plot(np.log10(reg_axis), train_acc_history, label='train')\n",
    "# plt.title('Coarse tunning of regularisation strength, logirithm axis')\n",
    "# plt.legend()\n",
    "# plt.show()\n"
   ]
  },
  {
   "cell_type": "code",
   "execution_count": 17,
   "metadata": {},
   "outputs": [
    {
     "name": "stdout",
     "output_type": "stream",
     "text": [
      "Hyperparameter combinations completed: 1 / 20\n",
      "Hyperparameter combinations completed: 2 / 20\n",
      "Hyperparameter combinations completed: 3 / 20\n",
      "Hyperparameter combinations completed: 4 / 20\n",
      "Hyperparameter combinations completed: 5 / 20\n",
      "Hyperparameter combinations completed: 6 / 20\n",
      "Hyperparameter combinations completed: 7 / 20\n",
      "Hyperparameter combinations completed: 8 / 20\n",
      "Hyperparameter combinations completed: 9 / 20\n",
      "Hyperparameter combinations completed: 10 / 20\n",
      "Hyperparameter combinations completed: 11 / 20\n",
      "Hyperparameter combinations completed: 12 / 20\n",
      "Hyperparameter combinations completed: 13 / 20\n",
      "Hyperparameter combinations completed: 14 / 20\n",
      "Hyperparameter combinations completed: 15 / 20\n",
      "Hyperparameter combinations completed: 16 / 20\n",
      "Hyperparameter combinations completed: 17 / 20\n",
      "Hyperparameter combinations completed: 18 / 20\n",
      "Hyperparameter combinations completed: 19 / 20\n",
      "Hyperparameter combinations completed: 20 / 20\n",
      "Best training accuracy achieved: 0.264000\n",
      "Best validation accuracy achieved: 0.238000\n",
      "\n",
      "Hyperparamters of the best net:\n",
      "hidden size: 204\n",
      "learning rate: 0.004833\n",
      "number of epochs: 5\n",
      "regularisation strength: 10^(-5.920819)\n",
      "\n",
      "\n",
      "Number of hyperparams to tune: 20\n",
      "Total time used: 23.276628 (seconds)\n",
      "Total time per hyperparam: 1.163831 (seconds)\n",
      "\n"
     ]
    },
    {
     "data": {
      "image/png": "[encoded data removed]",
      "text/plain": [
       "<matplotlib.figure.Figure at 0x10db4eac8>"
      ]
     },
     "metadata": {},
     "output_type": "display_data"
    }
   ],
   "source": [
    "# 3. learning rate tunning\n",
    "###### setting hyperparameters ###### \n",
    "# tunning parameter:\n",
    "learning_rate_range = [1e-3]\n",
    "learning_rate_range = 10 ** np.linspace(-6, 1, 20)  # 1st coarse tunning\n",
    "\n",
    "# locked paramters:\n",
    "hidden_size_range = [204]\n",
    "num_epochs_range = [5]\n",
    "reg_range = [1.20e-06]\n",
    "\n",
    "# pipe ranges into a list\n",
    "hyper_params_range = [hidden_size_range, \n",
    "                      learning_rate_range, \n",
    "                      num_epochs_range, \n",
    "                      reg_range]\n",
    "\n",
    "hyper_params_list = hyper_params_comb(hyper_params_range)\n",
    "tic = time.time()\n",
    "best_net, results, best_val_acc = net_tunning(X_train, y_train, \n",
    "                               X_val, y_val, \n",
    "                               hyper_params_list, verbose=False)\n",
    "toc = time.time()\n",
    "\n",
    "\n",
    "####### time consumed ######\n",
    "print()\n",
    "print('Number of hyperparams to tune: %d' % len(hyper_params_list))\n",
    "print('Total time used: %f (seconds)' % (toc-tic))\n",
    "print('Total time per hyperparam: %f (seconds)' % (float(toc-tic)/float(len(hyper_params_list))))\n",
    "print()\n",
    "\n",
    "\n",
    "###### Visualisation of results ######\n",
    "# visualise: [learning rate] vs [train/val accuracy]\n",
    "reg_axis = [hyper_params[1] for hyper_params in sorted(results)]\n",
    "train_acc_history = [results[hyper_params][0] for hyper_params in sorted(results)]\n",
    "val_acc_history = [results[hyper_params][1] for hyper_params in sorted(results)]\n",
    "\n",
    "plt.subplot(2,1,1)\n",
    "plt.plot(reg_axis, val_acc_history, label='val')\n",
    "plt.plot(reg_axis, train_acc_history, label='train')\n",
    "plt.title('Tunning of learning rate')\n",
    "plt.legend()\n",
    "             \n",
    "plt.subplot(2,1,2)\n",
    "plt.plot(np.log10(reg_axis), val_acc_history, label='val')\n",
    "plt.plot(np.log10(reg_axis), train_acc_history, label='train')\n",
    "plt.title('Tunning of regularisation strength, logirithm axis')\n",
    "plt.legend()\n",
    "plt.show()\n",
    "\n",
    "##### send a messgae to wechat #####\n",
    "train_flag = True\n",
    "if train_flag:\n",
    "    itchat.send('Learning rate tunning completed!'\n",
    "                '\\nTime used: %f (secs)\\nBest validation accuracy: %f' % (toc-tic, best_val_acc),\n",
    "                toUserName='filehelper')"
   ]
  },
  {
   "cell_type": "code",
   "execution_count": 6,
   "metadata": {
    "collapsed": true
   },
   "outputs": [],
   "source": [
    "# combined fine tuning"
   ]
  },
  {
   "cell_type": "code",
   "execution_count": 7,
   "metadata": {
    "collapsed": true
   },
   "outputs": [],
   "source": [
    "# dropout"
   ]
  },
  {
   "cell_type": "code",
   "execution_count": 8,
   "metadata": {
    "collapsed": true
   },
   "outputs": [],
   "source": [
    "# Adam"
   ]
  },
  {
   "cell_type": "code",
   "execution_count": null,
   "metadata": {
    "collapsed": true
   },
   "outputs": [],
   "source": []
  }
 ],
 "metadata": {
  "kernelspec": {
   "display_name": "Python [default]",
   "language": "python",
   "name": "python3"
  },
  "language_info": {
   "codemirror_mode": {
    "name": "ipython",
    "version": 3
   },
   "file_extension": ".py",
   "mimetype": "text/x-python",
   "name": "python",
   "nbconvert_exporter": "python",
   "pygments_lexer": "ipython3",
   "version": "3.5.3"
  }
 },
 "nbformat": 4,
 "nbformat_minor": 2
}
