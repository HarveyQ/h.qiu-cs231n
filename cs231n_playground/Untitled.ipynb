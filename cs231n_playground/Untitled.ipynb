{
 "cells": [
  {
   "cell_type": "code",
   "execution_count": 11,
   "metadata": {
    "collapsed": false
   },
   "outputs": [
    {
     "name": "stdout",
     "output_type": "stream",
     "text": [
      "2. trying to print _a:  semi-private?\n",
      "3. trying to print a:  public\n"
     ]
    }
   ],
   "source": [
    "class Test(object):\n",
    "    def __init__(self):\n",
    "        self.__a = \"private\"\n",
    "        self._a = \"semi-private?\"\n",
    "        self.a = \"public\"\n",
    "        \n",
    "        \n",
    "# create an instance to test underscores\n",
    "test_inst = Test()\n",
    "# print(\"1. trying to print __a: \", test_inst.__a)\n",
    "print(\"2. trying to print _a: \", test_inst._a)\n",
    "print(\"3. trying to print a: \", test_inst.a)\n"
   ]
  },
  {
   "cell_type": "code",
   "execution_count": null,
   "metadata": {
    "collapsed": true
   },
   "outputs": [],
   "source": []
  }
 ],
 "metadata": {
  "anaconda-cloud": {},
  "kernelspec": {
   "display_name": "Python [conda env:py35]",
   "language": "python",
   "name": "conda-env-py35-py"
  },
  "language_info": {
   "codemirror_mode": {
    "name": "ipython",
    "version": 3
   },
   "file_extension": ".py",
   "mimetype": "text/x-python",
   "name": "python",
   "nbconvert_exporter": "python",
   "pygments_lexer": "ipython3",
   "version": "3.5.3"
  }
 },
 "nbformat": 4,
 "nbformat_minor": 1
}
