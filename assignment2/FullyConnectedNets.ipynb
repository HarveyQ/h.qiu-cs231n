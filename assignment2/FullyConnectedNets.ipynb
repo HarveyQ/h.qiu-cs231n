{
 "cells": [
  {
   "cell_type": "markdown",
   "metadata": {},
   "source": [
    "# Fully-Connected Neural Nets\n",
    "In the previous homework you implemented a fully-connected two-layer neural network on CIFAR-10. The implementation was simple but not very modular since the loss and gradient were computed in a **single monolithic function**. This is manageable for a simple two-layer network, but would become impractical as we move to bigger models. Ideally we want to build networks using a more modular design so that we can implement different layer types in isolation and then snap them together into models with different architectures.\n",
    "\n",
    "In this exercise we will implement fully-connected networks using a more modular approach. For each layer we will implement a `forward` and a `backward` function. The `forward` function will receive inputs, weights, and other parameters and will return both an output and a `cache` object storing data needed for the backward pass, like this:\n",
    "\n",
    "```python\n",
    "def layer_forward(x, w):\n",
    "  \"\"\" Receive inputs x and weights w \"\"\"\n",
    "  # Do some computations ...\n",
    "  z = # ... some intermediate value\n",
    "  # Do some more computations ...\n",
    "  out = # the output\n",
    "   \n",
    "  cache = (x, w, z, out) # Values we need to compute gradients\n",
    "   \n",
    "  return out, cache\n",
    "```\n",
    "\n",
    "The backward pass will receive upstream derivatives and the `cache` object, and will return gradients with respect to the inputs and weights, like this:\n",
    "\n",
    "```python\n",
    "def layer_backward(dout, cache):\n",
    "  \"\"\"\n",
    "  Receive derivative of loss with respect to outputs and cache,\n",
    "  and compute derivative with respect to inputs.\n",
    "  \"\"\"\n",
    "  # Unpack cache values\n",
    "  x, w, z, out = cache\n",
    "  \n",
    "  # Use values in cache to compute derivatives\n",
    "  dx = # Derivative of loss with respect to x\n",
    "  dw = # Derivative of loss with respect to w\n",
    "  \n",
    "  return dx, dw\n",
    "```\n",
    "\n",
    "After implementing a bunch of layers this way, we will be able to easily combine them to build classifiers with different architectures.\n",
    "\n",
    "In addition to implementing fully-connected networks of arbitrary depth, we will also explore different update rules for optimization, and introduce Dropout as a regularizer and Batch Normalization as a tool to more efficiently optimize deep networks.\n",
    "  "
   ]
  },
  {
   "cell_type": "code",
   "execution_count": 1,
   "metadata": {
    "collapsed": false
   },
   "outputs": [],
   "source": [
    "# As usual, a bit of setup\n",
    "from __future__ import print_function\n",
    "import time\n",
    "import numpy as np\n",
    "import matplotlib.pyplot as plt\n",
    "from cs231n.classifiers.fc_net import *\n",
    "from cs231n.data_utils import get_CIFAR10_data\n",
    "from cs231n.gradient_check import eval_numerical_gradient, eval_numerical_gradient_array\n",
    "from cs231n.solver import Solver\n",
    "\n",
    "# some jupyter magic\n",
    "%matplotlib inline\n",
    "plt.rcParams['figure.figsize'] = (10.0, 8.0) # set default size of plots\n",
    "plt.rcParams['image.interpolation'] = 'nearest'\n",
    "plt.rcParams['image.cmap'] = 'gray'\n",
    "\n",
    "# for auto-reloading external modules\n",
    "# see http://stackoverflow.com/questions/1907993/autoreload-of-modules-in-ipython\n",
    "%load_ext autoreload\n",
    "%autoreload 2\n",
    "\n",
    "def rel_error(x, y):\n",
    "  \"\"\" returns relative error \"\"\"\n",
    "  return np.max(np.abs(x - y) / (np.maximum(1e-8, np.abs(x) + np.abs(y))))"
   ]
  },
  {
   "cell_type": "code",
   "execution_count": 2,
   "metadata": {
    "collapsed": false
   },
   "outputs": [
    {
     "name": "stdout",
     "output_type": "stream",
     "text": [
      "('y_train: ', (49000,))\n",
      "('X_test: ', (1000, 3, 32, 32))\n",
      "('X_val: ', (1000, 3, 32, 32))\n",
      "('X_train: ', (49000, 3, 32, 32))\n",
      "('y_test: ', (1000,))\n",
      "('y_val: ', (1000,))\n"
     ]
    }
   ],
   "source": [
    "# Load the (preprocessed) CIFAR10 data.\n",
    "\n",
    "data = get_CIFAR10_data()\n",
    "for k, v in list(data.items()):\n",
    "  print(('%s: ' % k, v.shape))\n",
    "\n",
    "# HQ: data is in a dict with keys:ndarray"
   ]
  },
  {
   "cell_type": "markdown",
   "metadata": {},
   "source": [
    "# Affine layer: foward\n",
    "Open the file `cs231n/layers.py` and implement the `affine_forward` function.\n",
    "\n",
    "Once you are done you can test your implementaion by running the following:"
   ]
  },
  {
   "cell_type": "code",
   "execution_count": 3,
   "metadata": {
    "collapsed": false
   },
   "outputs": [
    {
     "name": "stdout",
     "output_type": "stream",
     "text": [
      "Testing affine_forward function:\n",
      "difference:  9.769848888397517e-10\n"
     ]
    }
   ],
   "source": [
    "# Test the affine_forward function\n",
    "\n",
    "num_inputs = 2  # 2 data points\n",
    "input_shape = (4, 5, 6)  # shape of the data\n",
    "output_dim = 3  # dimension of output\n",
    "\n",
    "input_size = num_inputs * np.prod(input_shape)\n",
    "weight_size = output_dim * np.prod(input_shape)\n",
    "\n",
    "# artificial data\n",
    "x = np.linspace(-0.1, 0.5, num=input_size).reshape(num_inputs, *input_shape)\n",
    "w = np.linspace(-0.2, 0.3, num=weight_size).reshape(np.prod(input_shape), output_dim)\n",
    "b = np.linspace(-0.3, 0.1, num=output_dim)  # (3, )\n",
    "\n",
    "out, _ = affine_forward(x, w, b)\n",
    "correct_out = np.array([[ 1.49834967,  1.70660132,  1.91485297],\n",
    "                        [ 3.25553199,  3.5141327,   3.77273342]])\n",
    "\n",
    "# Compare your output with ours. The error should be around 1e-9.\n",
    "print('Testing affine_forward function:')\n",
    "print('difference: ', rel_error(out, correct_out))"
   ]
  },
  {
   "cell_type": "markdown",
   "metadata": {},
   "source": [
    "# Affine layer: backward\n",
    "Now implement the `affine_backward` function and test your implementation using numeric gradient checking."
   ]
  },
  {
   "cell_type": "code",
   "execution_count": 4,
   "metadata": {
    "collapsed": false
   },
   "outputs": [
    {
     "name": "stdout",
     "output_type": "stream",
     "text": [
      "Testing affine_backward function:\n",
      "dx error:  1.0908199508708189e-10\n",
      "dw error:  2.1752635504596857e-10\n",
      "db error:  7.736978834487815e-12\n"
     ]
    }
   ],
   "source": [
    "# Test the affine_backward function\n",
    "np.random.seed(231)  # set a random seed\n",
    "x = np.random.randn(10, 2, 3)  # generate random data\n",
    "w = np.random.randn(6, 5)\n",
    "b = np.random.randn(5)\n",
    "dout = np.random.randn(10, 5)  # generate random dout passed from back\n",
    "\n",
    "# numerical gradient using gradient checking\n",
    "dx_num = eval_numerical_gradient_array(lambda x: affine_forward(x, w, b)[0], x, dout)\n",
    "dw_num = eval_numerical_gradient_array(lambda w: affine_forward(x, w, b)[0], w, dout)\n",
    "db_num = eval_numerical_gradient_array(lambda b: affine_forward(x, w, b)[0], b, dout)\n",
    "\n",
    "_, cache = affine_forward(x, w, b)\n",
    "dx, dw, db = affine_backward(dout, cache)\n",
    "\n",
    "# The error should be around 1e-10\n",
    "print('Testing affine_backward function:')\n",
    "print('dx error: ', rel_error(dx_num, dx))\n",
    "print('dw error: ', rel_error(dw_num, dw))\n",
    "print('db error: ', rel_error(db_num, db))"
   ]
  },
  {
   "cell_type": "markdown",
   "metadata": {},
   "source": [
    "# ReLU layer: forward\n",
    "Implement the forward pass for the ReLU activation function in the `relu_forward` function and test your implementation using the following:"
   ]
  },
  {
   "cell_type": "code",
   "execution_count": 5,
   "metadata": {
    "collapsed": false
   },
   "outputs": [
    {
     "name": "stdout",
     "output_type": "stream",
     "text": [
      "Testing relu_forward function:\n",
      "difference:  4.999999798022158e-08\n"
     ]
    }
   ],
   "source": [
    "# Test the relu_forward function\n",
    "\n",
    "x = np.linspace(-0.5, 0.5, num=12).reshape(3, 4)  # artificial data\n",
    "\n",
    "out, _ = relu_forward(x)\n",
    "correct_out = np.array([[ 0.,          0.,          0.,          0.,        ],\n",
    "                        [ 0.,          0.,          0.04545455,  0.13636364,],\n",
    "                        [ 0.22727273,  0.31818182,  0.40909091,  0.5,       ]])\n",
    "\n",
    "# Compare your output with ours. The error should be around 5e-8\n",
    "print('Testing relu_forward function:')\n",
    "print('difference: ', rel_error(out, correct_out))"
   ]
  },
  {
   "cell_type": "markdown",
   "metadata": {},
   "source": [
    "# ReLU layer: backward\n",
    "Now implement the backward pass for the ReLU activation function in the `relu_backward` function and test your implementation using numeric gradient checking:"
   ]
  },
  {
   "cell_type": "code",
   "execution_count": 6,
   "metadata": {
    "collapsed": false
   },
   "outputs": [
    {
     "name": "stdout",
     "output_type": "stream",
     "text": [
      "Testing relu_backward function:\n",
      "dx error:  3.2756349136310288e-12\n"
     ]
    }
   ],
   "source": [
    "np.random.seed(231)\n",
    "x = np.random.randn(10, 10)\n",
    "dout = np.random.randn(*x.shape)\n",
    "\n",
    "dx_num = eval_numerical_gradient_array(lambda x: relu_forward(x)[0], x, dout)\n",
    "\n",
    "_, cache = relu_forward(x)\n",
    "dx = relu_backward(dout, cache)\n",
    "\n",
    "# The error should be around 3e-12\n",
    "print('Testing relu_backward function:')\n",
    "print('dx error: ', rel_error(dx_num, dx))"
   ]
  },
  {
   "cell_type": "markdown",
   "metadata": {},
   "source": [
    "# \"Sandwich\" layers\n",
    "There are some common patterns of layers that are frequently used in neural nets. For example, affine layers are frequently followed by a ReLU nonlinearity. To make these common patterns easy, we define several convenience layers in the file `cs231n/layer_utils.py`.\n",
    "\n",
    "For now take a look at the `affine_relu_forward` and `affine_relu_backward` functions, and run the following to numerically gradient check the backward pass:"
   ]
  },
  {
   "cell_type": "code",
   "execution_count": 7,
   "metadata": {
    "collapsed": false
   },
   "outputs": [
    {
     "name": "stdout",
     "output_type": "stream",
     "text": [
      "Testing affine_relu_forward:\n",
      "dx error:  6.395535042049294e-11\n",
      "dw error:  8.162015570444288e-11\n",
      "db error:  7.826724021458994e-12\n"
     ]
    }
   ],
   "source": [
    "from cs231n.layer_utils import affine_relu_forward, affine_relu_backward\n",
    "np.random.seed(231)\n",
    "x = np.random.randn(2, 3, 4)\n",
    "w = np.random.randn(12, 10)\n",
    "b = np.random.randn(10)\n",
    "dout = np.random.randn(2, 10)\n",
    "\n",
    "out, cache = affine_relu_forward(x, w, b)\n",
    "dx, dw, db = affine_relu_backward(dout, cache)\n",
    "\n",
    "dx_num = eval_numerical_gradient_array(lambda x: affine_relu_forward(x, w, b)[0], x, dout)\n",
    "dw_num = eval_numerical_gradient_array(lambda w: affine_relu_forward(x, w, b)[0], w, dout)\n",
    "db_num = eval_numerical_gradient_array(lambda b: affine_relu_forward(x, w, b)[0], b, dout)\n",
    "\n",
    "print('Testing affine_relu_forward:')\n",
    "print('dx error: ', rel_error(dx_num, dx))\n",
    "print('dw error: ', rel_error(dw_num, dw))\n",
    "print('db error: ', rel_error(db_num, db))"
   ]
  },
  {
   "cell_type": "markdown",
   "metadata": {},
   "source": [
    "# Loss layers: Softmax and SVM\n",
    "You implemented these loss functions in the last assignment, so we'll give them to you for free here. You should still make sure you understand how they work by looking at the implementations in `cs231n/layers.py`.\n",
    "\n",
    "You can make sure that the implementations are correct by running the following:"
   ]
  },
  {
   "cell_type": "code",
   "execution_count": 8,
   "metadata": {
    "collapsed": false
   },
   "outputs": [
    {
     "name": "stdout",
     "output_type": "stream",
     "text": [
      "Testing svm_loss:\n",
      "loss:  8.999602749096233\n",
      "dx error:  1.4021566006651672e-09\n",
      "\n",
      "Testing softmax_loss:\n",
      "loss:  2.302545844500738\n",
      "dx error:  9.384673161989355e-09\n"
     ]
    }
   ],
   "source": [
    "np.random.seed(231)\n",
    "num_classes, num_inputs = 10, 50\n",
    "x = 0.001 * np.random.randn(num_inputs, num_classes)  # generate random inputs\n",
    "y = np.random.randint(num_classes, size=num_inputs)  # generate random labels\n",
    "\n",
    "dx_num = eval_numerical_gradient(lambda x: svm_loss(x, y)[0], x, verbose=False)\n",
    "loss, dx = svm_loss(x, y)\n",
    " \n",
    "# Test svm_loss function. Loss should be around 9 and dx error should be 1e-9\n",
    "print('Testing svm_loss:')\n",
    "print('loss: ', loss)\n",
    "print('dx error: ', rel_error(dx_num, dx))\n",
    "\n",
    "dx_num = eval_numerical_gradient(lambda x: softmax_loss(x, y)[0], x, verbose=False)\n",
    "loss, dx = softmax_loss(x, y)\n",
    "\n",
    "# Test softmax_loss function. Loss should be 2.3 and dx error should be 1e-8\n",
    "print('\\nTesting softmax_loss:')\n",
    "print('loss: ', loss)\n",
    "print('dx error: ', rel_error(dx_num, dx))"
   ]
  },
  {
   "cell_type": "markdown",
   "metadata": {},
   "source": [
    "# Two-layer network\n",
    "In the previous assignment you implemented a two-layer neural network in a single monolithic class. Now that you have implemented modular versions of the necessary layers, you will reimplement the two layer network using these modular implementations.\n",
    "\n",
    "Open the file `cs231n/classifiers/fc_net.py` and complete the implementation of the `TwoLayerNet` class. This class will serve as a model for the other networks you will implement in this assignment, so read through it to make sure you understand the API. You can run the cell below to test your implementation."
   ]
  },
  {
   "cell_type": "code",
   "execution_count": null,
   "metadata": {
    "collapsed": true
   },
   "outputs": [],
   "source": [
    "np.random.seed(231)\n",
    "N, D, H, C = 3, 5, 50, 7\n",
    "\n",
    "\"\"\"\n",
    "N = num_of_inputs, \n",
    "D = input_dim, \n",
    "H = hidden_dim, \n",
    "C = num_class/op_dim\n",
    "\"\"\"\n",
    "\n",
    "# generate dev data\n",
    "X = np.random.randn(N, D)\n",
    "y = np.random.randint(C, size=N)\n",
    "\n",
    "std = 1e-3\n",
    "model = TwoLayerNet(input_dim=D, hidden_dim=H, num_classes=C, weight_scale=std)\n",
    "\n",
    "# Test the initialisation of weights and biases by checking their standard deviation\n",
    "print('Testing initialization ... ')\n",
    "W1_std = abs(model.params['W1'].std() - std)  # difference between std(W1) and set std\n",
    "b1 = model.params['b1']\n",
    "W2_std = abs(model.params['W2'].std() - std)\n",
    "b2 = model.params['b2']\n",
    "# assertion error if (weight_std - std)/std > 1/10\n",
    "assert W1_std < std / 10, 'First layer weights do not seem right'\n",
    "assert np.all(b1 == 0), 'First layer biases do not seem right'  # bias should be all zeros\n",
    "assert W2_std < std / 10, 'Second layer weights do not seem right'\n",
    "assert np.all(b2 == 0), 'Second layer biases do not seem right'\n",
    "\n",
    "print('Testing test-time forward pass ... ')\n",
    "# generate some weights and biases (parameters)\n",
    "model.params['W1'] = np.linspace(-0.7, 0.3, num=D*H).reshape(D, H)\n",
    "model.params['b1'] = np.linspace(-0.1, 0.9, num=H)\n",
    "model.params['W2'] = np.linspace(-0.3, 0.4, num=H*C).reshape(H, C)\n",
    "model.params['b2'] = np.linspace(-0.9, 0.1, num=C)\n",
    "X = np.linspace(-5.5, 4.5, num=N*D).reshape(D, N).T  # some nonsense data\n",
    "scores = model.loss(X)  # calculate forward pass scores\n",
    "correct_scores = np.asarray(\n",
    "  [[11.53165108,  12.2917344,   13.05181771,  13.81190102,  14.57198434, 15.33206765,  16.09215096],\n",
    "   [12.05769098,  12.74614105,  13.43459113,  14.1230412,   14.81149128, 15.49994135,  16.18839143],\n",
    "   [12.58373087,  13.20054771,  13.81736455,  14.43418138,  15.05099822, 15.66781506,  16.2846319 ]])\n",
    "scores_diff = np.abs(scores - correct_scores).sum()\n",
    "assert scores_diff < 1e-6, 'Problem with test-time forward pass'\n",
    "\n",
    "print('Testing training loss (no regularization)')  # reg=0 by default\n",
    "y = np.asarray([0, 5, 1])\n",
    "loss, grads = model.loss(X, y)\n",
    "correct_loss = 3.4702243556\n",
    "assert abs(loss - correct_loss) < 1e-10, 'Problem with training-time loss'\n",
    "\n",
    "model.reg = 1.0\n",
    "loss, grads = model.loss(X, y)\n",
    "correct_loss = 26.5948426952\n",
    "assert abs(loss - correct_loss) < 1e-10, 'Problem with regularization loss'\n",
    "\n",
    "# Gradient checking\n",
    "for reg in [0.0, 0.7]:\n",
    "  print('Running numeric gradient check with reg = ', reg)\n",
    "  model.reg = reg \n",
    "  loss, grads = model.loss(X, y)\n",
    "\n",
    "  for name in sorted(grads):  # loop over parameters\n",
    "    f = lambda _: model.loss(X, y)[0]\n",
    "    grad_num = eval_numerical_gradient(f, model.params[name], verbose=False)\n",
    "    print('%s relative error: %.2e' % (name, rel_error(grad_num, grads[name])))\n",
    "    \n"
   ]
  },
  {
   "cell_type": "markdown",
   "metadata": {},
   "source": [
    "# Solver\n",
    "In the previous assignment, the logic for training models was coupled to the models themselves. Following a more modular design, for this assignment we have split the logic for training models into a separate class.\n",
    "\n",
    "Open the file `cs231n/solver.py` and read through it to familiarize yourself with the API. After doing so, use a `Solver` instance to train a `TwoLayerNet` that achieves at least `50%` accuracy on the validation set."
   ]
  },
  {
   "cell_type": "markdown",
   "metadata": {},
   "source": [
    "#### Check and implement regularisation?"
   ]
  },
  {
   "cell_type": "code",
   "execution_count": 10,
   "metadata": {
    "collapsed": false,
    "scrolled": true
   },
   "outputs": [
    {
     "name": "stdout",
     "output_type": "stream",
     "text": [
      "(Iteration 1 / 4900) loss: 2.352306\n",
      "(Epoch 0 / 10) train acc: 0.091000; val_acc: 0.095000\n",
      "(Iteration 101 / 4900) loss: 2.293025\n",
      "(Iteration 201 / 4900) loss: 2.205306\n",
      "(Iteration 301 / 4900) loss: 1.973409\n",
      "(Iteration 401 / 4900) loss: 1.939416\n",
      "(Epoch 1 / 10) train acc: 0.327000; val_acc: 0.317000\n",
      "(Iteration 501 / 4900) loss: 2.023946\n",
      "(Iteration 601 / 4900) loss: 1.959802\n",
      "(Iteration 701 / 4900) loss: 1.937079\n",
      "(Iteration 801 / 4900) loss: 1.930297\n",
      "(Iteration 901 / 4900) loss: 1.896699\n",
      "(Epoch 2 / 10) train acc: 0.369000; val_acc: 0.375000\n",
      "(Iteration 1001 / 4900) loss: 1.717688\n",
      "(Iteration 1101 / 4900) loss: 1.788473\n",
      "(Iteration 1201 / 4900) loss: 1.803731\n",
      "(Iteration 1301 / 4900) loss: 1.720785\n",
      "(Iteration 1401 / 4900) loss: 1.850739\n",
      "(Epoch 3 / 10) train acc: 0.381000; val_acc: 0.398000\n",
      "(Iteration 1501 / 4900) loss: 1.752067\n",
      "(Iteration 1601 / 4900) loss: 1.821058\n",
      "(Iteration 1701 / 4900) loss: 1.636006\n",
      "(Iteration 1801 / 4900) loss: 1.948188\n",
      "(Iteration 1901 / 4900) loss: 1.741308\n",
      "(Epoch 4 / 10) train acc: 0.414000; val_acc: 0.430000\n",
      "(Iteration 2001 / 4900) loss: 1.764236\n",
      "(Iteration 2101 / 4900) loss: 1.758726\n",
      "(Iteration 2201 / 4900) loss: 1.538024\n",
      "(Iteration 2301 / 4900) loss: 1.719311\n",
      "(Iteration 2401 / 4900) loss: 1.763819\n",
      "(Epoch 5 / 10) train acc: 0.471000; val_acc: 0.451000\n",
      "(Iteration 2501 / 4900) loss: 1.679987\n",
      "(Iteration 2601 / 4900) loss: 1.765258\n",
      "(Iteration 2701 / 4900) loss: 1.696160\n",
      "(Iteration 2801 / 4900) loss: 1.543522\n",
      "(Iteration 2901 / 4900) loss: 1.641090\n",
      "(Epoch 6 / 10) train acc: 0.474000; val_acc: 0.460000\n",
      "(Iteration 3001 / 4900) loss: 1.437448\n",
      "(Iteration 3101 / 4900) loss: 1.558204\n",
      "(Iteration 3201 / 4900) loss: 1.765881\n",
      "(Iteration 3301 / 4900) loss: 1.621614\n",
      "(Iteration 3401 / 4900) loss: 1.762135\n",
      "(Epoch 7 / 10) train acc: 0.457000; val_acc: 0.460000\n",
      "(Iteration 3501 / 4900) loss: 1.676783\n",
      "(Iteration 3601 / 4900) loss: 1.735527\n",
      "(Iteration 3701 / 4900) loss: 1.487022\n",
      "(Iteration 3801 / 4900) loss: 1.537150\n",
      "(Iteration 3901 / 4900) loss: 1.582734\n",
      "(Epoch 8 / 10) train acc: 0.476000; val_acc: 0.464000\n",
      "(Iteration 4001 / 4900) loss: 1.503516\n",
      "(Iteration 4101 / 4900) loss: 1.606648\n",
      "(Iteration 4201 / 4900) loss: 1.392088\n",
      "(Iteration 4301 / 4900) loss: 1.495788\n",
      "(Iteration 4401 / 4900) loss: 1.409032\n",
      "(Epoch 9 / 10) train acc: 0.463000; val_acc: 0.468000\n",
      "(Iteration 4501 / 4900) loss: 1.503768\n",
      "(Iteration 4601 / 4900) loss: 1.500273\n",
      "(Iteration 4701 / 4900) loss: 1.464030\n",
      "(Iteration 4801 / 4900) loss: 1.382556\n",
      "(Epoch 10 / 10) train acc: 0.466000; val_acc: 0.467000\n",
      "Training time: {} sec\n"
     ]
    },
    {
     "ename": "AttributeError",
     "evalue": "'NoneType' object has no attribute 'format'",
     "traceback": [
      "\u001b[1;31m---------------------------------------------------------------------------\u001b[0m",
      "\u001b[1;31mAttributeError\u001b[0m                            Traceback (most recent call last)",
      "\u001b[1;32m<ipython-input-10-268a59440327>\u001b[0m in \u001b[0;36m<module>\u001b[1;34m()\u001b[0m\n\u001b[0;32m     43\u001b[0m \u001b[0mtoc\u001b[0m \u001b[1;33m=\u001b[0m \u001b[0mtime\u001b[0m\u001b[1;33m.\u001b[0m\u001b[0mtime\u001b[0m\u001b[1;33m(\u001b[0m\u001b[1;33m)\u001b[0m\u001b[1;33m\u001b[0m\u001b[0m\n\u001b[0;32m     44\u001b[0m \u001b[0mtrain_time\u001b[0m \u001b[1;33m=\u001b[0m \u001b[0mtoc\u001b[0m \u001b[1;33m-\u001b[0m \u001b[0mtic\u001b[0m \u001b[1;33m/\u001b[0m\u001b[1;36m60\u001b[0m\u001b[1;33m\u001b[0m\u001b[0m\n\u001b[1;32m---> 45\u001b[1;33m \u001b[0mprint\u001b[0m\u001b[1;33m(\u001b[0m\u001b[1;34m\"Training time: {} sec\"\u001b[0m\u001b[1;33m)\u001b[0m\u001b[1;33m.\u001b[0m\u001b[0mformat\u001b[0m\u001b[1;33m(\u001b[0m\u001b[0mtrain_time\u001b[0m\u001b[1;33m)\u001b[0m\u001b[1;33m\u001b[0m\u001b[0m\n\u001b[0m\u001b[0;32m     46\u001b[0m \u001b[1;33m\u001b[0m\u001b[0m\n\u001b[0;32m     47\u001b[0m \u001b[1;31m##############################################################################\u001b[0m\u001b[1;33m\u001b[0m\u001b[1;33m\u001b[0m\u001b[0m\n",
      "\u001b[1;31mAttributeError\u001b[0m: 'NoneType' object has no attribute 'format'"
     ],
     "output_type": "error"
    }
   ],
   "source": [
    "##############################################################################\n",
    "# TODO: Use a Solver instance to train a TwoLayerNet that achieves at least  #\n",
    "# 50% accuracy on the validation set.                                        #\n",
    "##############################################################################\n",
    "\"\"\"\n",
    "Define the model:\n",
    "- input_dim: An integer giving the size of the input\n",
    "- hidden_dim: An integer giving the size of the hidden layer\n",
    "- num_classes: An integer giving the number of classes to classify\n",
    "- dropout: Scalar between 0 and 1 giving dropout strength.\n",
    "- weight_scale: Scalar giving the standard deviation for random\n",
    "  initialization of the weights.\n",
    "- reg: Scalar giving L2 regularization strength.\n",
    "\"\"\"\n",
    "D = np.asarray(data['X_test'].shape[1:]).prod()\n",
    "\n",
    "model = TwoLayerNet(input_dim=D,\n",
    "                   hidden_dim=100,\n",
    "                   num_classes=10,\n",
    "                   weight_scale=1e-3,\n",
    "                   reg = 0.3\n",
    "                   )\n",
    "\n",
    "\"\"\"\n",
    "Solver parameters and hyperparameters:\n",
    "- update_rule: sgd\n",
    "- optim_config: learning_rate (for sgd)\n",
    "- lr_decay: 1.0\n",
    "- batch_size: 100\n",
    "- num_epochs: 10\n",
    "- num_train_examples: 1000\n",
    "- num_val_examples: None (meaning use all)\n",
    "\"\"\"\n",
    "\n",
    "optim_config_dict = {'learning_rate':1e-4}\n",
    "solver = Solver(model, data, \n",
    "                num_epochs=10,\n",
    "                optim_config=optim_config_dict,\n",
    "               print_every=100\n",
    "               )\n",
    "tic = time.time()\n",
    "solver.train()\n",
    "toc = time.time()\n",
    "print(\"Training time: {} sec\").format(toc-tic)\n",
    "\n",
    "##############################################################################\n",
    "#                             END OF YOUR CODE                               #\n",
    "##############################################################################"
   ]
  },
  {
   "cell_type": "code",
   "execution_count": 7,
   "metadata": {
    "collapsed": false
   },
   "outputs": [
    {
     "data": {
      "image/png": "[encoded data removed]",
      "text/plain": [
       "<matplotlib.figure.Figure at 0x7f09eb310dd8>"
      ]
     },
     "metadata": {},
     "output_type": "display_data"
    }
   ],
   "source": [
    "# Run this cell to visualize training loss and train / val accuracy\n",
    "\n",
    "plt.subplot(2, 1, 1)\n",
    "plt.title('Training loss')\n",
    "plt.plot(solver.loss_history, 'o')\n",
    "plt.xlabel('Iteration')\n",
    "\n",
    "plt.subplot(2, 1, 2)\n",
    "plt.title('Accuracy')\n",
    "plt.plot(solver.train_acc_history, '-o', label='train')\n",
    "plt.plot(solver.val_acc_history, '-o', label='val')\n",
    "plt.plot([0.5] * len(solver.val_acc_history), 'k--')\n",
    "plt.xlabel('Epoch')\n",
    "plt.legend(loc='lower right')\n",
    "plt.gcf().set_size_inches(15, 12)\n",
    "plt.show()"
   ]
  },
  {
   "cell_type": "markdown",
   "metadata": {},
   "source": [
    "# Multilayer network\n",
    "Next you will implement a fully-connected network with an arbitrary number of hidden layers.\n",
    "\n",
    "Read through the `FullyConnectedNet` class in the file `cs231n/classifiers/fc_net.py`.\n",
    "\n",
    "Implement the initialization, the forward pass, and the backward pass. For the moment don't worry about implementing dropout or batch normalization; we will add those features soon."
   ]
  },
  {
   "cell_type": "markdown",
   "metadata": {},
   "source": [
    "## Initial loss and gradient check"
   ]
  },
  {
   "cell_type": "markdown",
   "metadata": {},
   "source": [
    "As a sanity check, run the following to check the initial loss and to gradient check the network both with and without regularization. Do the initial losses seem reasonable?\n",
    "\n",
    "For gradient checking, you should expect to see errors around 1e-6 or less."
   ]
  },
  {
   "cell_type": "code",
   "execution_count": 7,
   "metadata": {
    "collapsed": false
   },
   "outputs": [
    {
     "name": "stdout",
     "output_type": "stream",
     "text": [
      "Running check with reg =  0\n",
      "Initial loss:  2.3004790897684924\n",
      "W1 relative error: 1.48e-07\n",
      "W2 relative error: 2.21e-05\n",
      "W3 relative error: 3.53e-07\n",
      "b1 relative error: 5.38e-09\n",
      "b2 relative error: 2.09e-09\n",
      "b3 relative error: 5.80e-11\n",
      "Running check with reg =  3.14\n",
      "Initial loss:  7.052114776533016\n",
      "W1 relative error: 6.86e-09\n",
      "W2 relative error: 3.52e-08\n",
      "W3 relative error: 1.32e-08\n",
      "b1 relative error: 1.48e-08\n",
      "b2 relative error: 1.72e-09\n",
      "b3 relative error: 1.80e-10\n"
     ]
    }
   ],
   "source": [
    "np.random.seed(231)\n",
    "N, D, H1, H2, C = 2, 15, 20, 30, 10  # dev parameters\n",
    "hidden_dims = [H1, H2]\n",
    "\n",
    "# dev data\n",
    "X = np.random.randn(N, D)\n",
    "y = np.random.randint(C, size=(N,))\n",
    "\n",
    "for reg in [0, 3.14]:\n",
    "  print('Running check with reg = ', reg)\n",
    "  model = FullyConnectedNet(hidden_dims, input_dim=D, num_classes=C,\n",
    "                            reg=reg, weight_scale=5e-2, dtype=np.float64)\n",
    "\n",
    "  loss, grads = model.loss(X, y)\n",
    "  print('Initial loss: ', loss)\n",
    "\n",
    "  for name in sorted(grads):\n",
    "    f = lambda _: model.loss(X, y)[0]\n",
    "    grad_num = eval_numerical_gradient(f, model.params[name], verbose=False, h=1e-5)\n",
    "    print('%s relative error: %.2e' % (name, rel_error(grad_num, grads[name])))"
   ]
  },
  {
   "cell_type": "markdown",
   "metadata": {},
   "source": [
    "As another sanity check, make sure you can overfit a small dataset of 50 images. First we will try a three-layer network with 100 units in each hidden layer. You will need to tweak the learning rate and initialization scale, but you should be able to overfit and achieve 100% training accuracy within 20 epochs."
   ]
  },
  {
   "cell_type": "code",
   "execution_count": 5,
   "metadata": {
    "collapsed": false,
    "scrolled": false
   },
   "outputs": [
    {
     "name": "stdout",
     "output_type": "stream",
     "text": [
      "(Iteration 1 / 100) loss: 2.411032\n",
      "(Epoch 0 / 50) train acc: 0.140000; val_acc: 0.102000\n",
      "(Epoch 1 / 50) train acc: 0.320000; val_acc: 0.119000\n",
      "(Epoch 2 / 50) train acc: 0.440000; val_acc: 0.148000\n",
      "(Epoch 3 / 50) train acc: 0.480000; val_acc: 0.147000\n",
      "(Epoch 4 / 50) train acc: 0.620000; val_acc: 0.149000\n",
      "(Epoch 5 / 50) train acc: 0.540000; val_acc: 0.115000\n",
      "(Iteration 11 / 100) loss: 1.690353\n",
      "(Epoch 6 / 50) train acc: 0.760000; val_acc: 0.169000\n",
      "(Epoch 7 / 50) train acc: 0.800000; val_acc: 0.172000\n",
      "(Epoch 8 / 50) train acc: 0.800000; val_acc: 0.145000\n",
      "(Epoch 9 / 50) train acc: 0.860000; val_acc: 0.198000\n",
      "(Epoch 10 / 50) train acc: 0.900000; val_acc: 0.192000\n",
      "(Iteration 21 / 100) loss: 0.233167\n",
      "(Epoch 11 / 50) train acc: 0.920000; val_acc: 0.174000\n",
      "(Epoch 12 / 50) train acc: 0.960000; val_acc: 0.182000\n",
      "(Epoch 13 / 50) train acc: 0.860000; val_acc: 0.184000\n",
      "(Epoch 14 / 50) train acc: 0.920000; val_acc: 0.166000\n",
      "(Epoch 15 / 50) train acc: 0.980000; val_acc: 0.162000\n",
      "(Iteration 31 / 100) loss: 0.179639\n",
      "(Epoch 16 / 50) train acc: 1.000000; val_acc: 0.182000\n",
      "(Epoch 17 / 50) train acc: 1.000000; val_acc: 0.180000\n",
      "(Epoch 18 / 50) train acc: 1.000000; val_acc: 0.189000\n",
      "(Epoch 19 / 50) train acc: 1.000000; val_acc: 0.175000\n",
      "(Epoch 20 / 50) train acc: 1.000000; val_acc: 0.184000\n",
      "(Iteration 41 / 100) loss: 0.042317\n",
      "(Epoch 21 / 50) train acc: 1.000000; val_acc: 0.186000\n",
      "(Epoch 22 / 50) train acc: 1.000000; val_acc: 0.183000\n",
      "(Epoch 23 / 50) train acc: 1.000000; val_acc: 0.188000\n",
      "(Epoch 24 / 50) train acc: 1.000000; val_acc: 0.181000\n",
      "(Epoch 25 / 50) train acc: 1.000000; val_acc: 0.188000\n",
      "(Iteration 51 / 100) loss: 0.010937\n",
      "(Epoch 26 / 50) train acc: 1.000000; val_acc: 0.187000\n",
      "(Epoch 27 / 50) train acc: 1.000000; val_acc: 0.191000\n",
      "(Epoch 28 / 50) train acc: 1.000000; val_acc: 0.185000\n",
      "(Epoch 29 / 50) train acc: 1.000000; val_acc: 0.184000\n",
      "(Epoch 30 / 50) train acc: 1.000000; val_acc: 0.184000\n",
      "(Iteration 61 / 100) loss: 0.013734\n",
      "(Epoch 31 / 50) train acc: 1.000000; val_acc: 0.186000\n",
      "(Epoch 32 / 50) train acc: 1.000000; val_acc: 0.189000\n",
      "(Epoch 33 / 50) train acc: 1.000000; val_acc: 0.189000\n",
      "(Epoch 34 / 50) train acc: 1.000000; val_acc: 0.189000\n",
      "(Epoch 35 / 50) train acc: 1.000000; val_acc: 0.191000\n",
      "(Iteration 71 / 100) loss: 0.005555\n",
      "(Epoch 36 / 50) train acc: 1.000000; val_acc: 0.188000\n",
      "(Epoch 37 / 50) train acc: 1.000000; val_acc: 0.189000\n",
      "(Epoch 38 / 50) train acc: 1.000000; val_acc: 0.189000\n",
      "(Epoch 39 / 50) train acc: 1.000000; val_acc: 0.189000\n",
      "(Epoch 40 / 50) train acc: 1.000000; val_acc: 0.185000\n",
      "(Iteration 81 / 100) loss: 0.005913\n",
      "(Epoch 41 / 50) train acc: 1.000000; val_acc: 0.188000\n",
      "(Epoch 42 / 50) train acc: 1.000000; val_acc: 0.189000\n",
      "(Epoch 43 / 50) train acc: 1.000000; val_acc: 0.191000\n",
      "(Epoch 44 / 50) train acc: 1.000000; val_acc: 0.187000\n",
      "(Epoch 45 / 50) train acc: 1.000000; val_acc: 0.187000\n",
      "(Iteration 91 / 100) loss: 0.004238\n",
      "(Epoch 46 / 50) train acc: 1.000000; val_acc: 0.184000\n",
      "(Epoch 47 / 50) train acc: 1.000000; val_acc: 0.185000\n",
      "(Epoch 48 / 50) train acc: 1.000000; val_acc: 0.188000\n",
      "(Epoch 49 / 50) train acc: 1.000000; val_acc: 0.187000\n",
      "(Epoch 50 / 50) train acc: 1.000000; val_acc: 0.187000\n"
     ]
    },
    {
     "data": {
      "image/png": "[encoded data removed]",
      "text/plain": [
       "<matplotlib.figure.Figure at 0x7f99dc73bb70>"
      ]
     },
     "metadata": {},
     "output_type": "display_data"
    }
   ],
   "source": [
    "# TODO: Use a three-layer Net to overfit 50 training examples.\n",
    "num_train = 50\n",
    "small_data = {'X_train': data['X_train'][:num_train],\n",
    "             'y_train': data['y_train'][:num_train],\n",
    "             'X_val': data['X_val'],\n",
    "             'y_val': data['y_val']}\n",
    "\n",
    "# Construct the model\n",
    "weight_scale = 1e-2\n",
    "ip_dim = np.asarray(small_data['X_train'].shape[1:]).prod()\n",
    "\n",
    "model = FullyConnectedNet([100, 100],\n",
    "                         input_dim=ip_dim, weight_scale=weight_scale,\n",
    "                         dtype=np.float64\n",
    "                         )\n",
    "\n",
    "# Construct the solver\n",
    "learning_rate = 1e-2\n",
    "solver = Solver(model, small_data,\n",
    "                optim_config={'learning_rate': learning_rate},\n",
    "                batch_size=25,\n",
    "                num_epochs=50,              \n",
    "               )\n",
    "\n",
    "# Call the train() method to train the model\n",
    "solver.train()\n",
    "\n",
    "# Plot the training\n",
    "plt.plot(solver.loss_history, 'o')\n",
    "plt.title('Traning loss hitory')\n",
    "plt.xlabel('Iteration')\n",
    "plt.ylabel('Traning Loss')\n",
    "plt.show()\n",
    "\n",
    "# num_train = 50\n",
    "# small_data = {\n",
    "#   'X_train': data['X_train'][:num_train],\n",
    "#   'y_train': data['y_train'][:num_train],\n",
    "#   'X_val': data['X_val'],\n",
    "#   'y_val': data['y_val'],\n",
    "# }\n",
    "\n",
    "# weight_scale = 1e-2\n",
    "# learning_rate = 1e-2\n",
    "\n",
    "# solver = Solver(model, small_data,\n",
    "#                 print_every=10, num_epochs=20, batch_size=25,\n",
    "#                 update_rule='sgd',\n",
    "#                 optim_config={\n",
    "#                   'learning_rate': learning_rate,\n",
    "#                 }\n",
    "#          )\n",
    "# solver.train()\n",
    "\n",
    "# plt.plot(solver.loss_history, 'o')\n",
    "# plt.title('Training loss history')\n",
    "# plt.xlabel('Iteration')\n",
    "# plt.ylabel('Training loss')\n",
    "# plt.show()"
   ]
  },
  {
   "cell_type": "markdown",
   "metadata": {},
   "source": [
    "Now try to use a five-layer network with 100 units on each layer to overfit 50 training examples. Again you will have to adjust the learning rate and weight initialization, but you should be able to achieve 100% training accuracy within 20 epochs."
   ]
  },
  {
   "cell_type": "code",
   "execution_count": 6,
   "metadata": {
    "collapsed": false
   },
   "outputs": [
    {
     "name": "stdout",
     "output_type": "stream",
     "text": [
      "parameters: 1/81\n",
      "lr =  0.1 ws= 0.1 last 3 train_acc:  [0.08, 0.08, 0.08]\n",
      "parameters: 2/81\n",
      "lr =  0.1 ws= 0.01 last 3 train_acc:  [0.16, 0.16, 0.18]\n",
      "parameters: 3/81\n",
      "lr =  0.1 ws= 0.001 last 3 train_acc:  [0.16, 0.16, 0.16]\n",
      "parameters: 4/81\n",
      "lr =  0.1 ws= 0.0001 last 3 train_acc:  [0.16, 0.16, 0.16]\n",
      "parameters: 5/81\n",
      "lr =  0.1 ws= 1e-05 last 3 train_acc:  [0.16, 0.16, 0.16]\n",
      "parameters: 6/81\n",
      "lr =  0.1 ws= 1e-06 last 3 train_acc:  [0.16, 0.16, 0.16]\n",
      "parameters: 7/81\n",
      "lr =  0.1 ws= 1e-07 last 3 train_acc:  [0.16, 0.16, 0.16]\n",
      "parameters: 8/81\n",
      "lr =  0.1 ws= 1e-08 last 3 train_acc:  [0.16, 0.16, 0.16]\n",
      "parameters: 9/81"
     ]
    },
    {
     "name": "stderr",
     "output_type": "stream",
     "text": [
      "/usr/local/lib/python3.5/dist-packages/numpy/core/_methods.py:26: RuntimeWarning: invalid value encountered in reduce\n",
      "  return umr_maximum(a, axis, None, out, keepdims)\n",
      "/home/cs231n/assignment2/cs231n/layers.py:110: RuntimeWarning: invalid value encountered in less\n",
      "  dx[x < 0] = 0\n",
      "/home/cs231n/assignment2/cs231n/classifiers/fc_net.py:269: RuntimeWarning: overflow encountered in power\n",
      "  reg_loss += np.sum(np.power(layer_W, 2))\n"
     ]
    },
    {
     "name": "stdout",
     "output_type": "stream",
     "text": [
      "\n",
      "lr =  0.1 ws= 1e-09 last 3 train_acc:  [0.16, 0.16, 0.16]\n",
      "parameters: 10/81\n",
      "lr =  0.01 ws= 0.1 last 3 train_acc:  [0.08, 0.08, 0.08]\n",
      "parameters: 11/81\n",
      "lr =  0.01 ws= 0.01 last 3 train_acc:  [0.18, 0.18, 0.16]\n",
      "parameters: 12/81\n",
      "lr =  0.01 ws= 0.001 last 3 train_acc:  [0.16, 0.16, 0.16]\n",
      "parameters: 13/81\n",
      "lr =  0.01 ws= 0.0001 last 3 train_acc:  [0.16, 0.16, 0.16]\n",
      "parameters: 14/81\n",
      "lr =  0.01 ws= 1e-05 last 3 train_acc:  [0.16, 0.16, 0.16]\n",
      "parameters: 15/81\n",
      "lr =  0.01 ws= 1e-06 last 3 train_acc:  [0.16, 0.16, 0.16]\n",
      "parameters: 16/81\n",
      "lr =  0.01 ws= 1e-07 last 3 train_acc:  [0.16, 0.16, 0.16]\n",
      "parameters: 17/81\n",
      "lr =  0.01 ws= 1e-08 last 3 train_acc:  [0.16, 0.16, 0.16]\n",
      "parameters: 18/81\n",
      "lr =  0.01 ws= 1e-09 last 3 train_acc:  [0.16, 0.16, 0.16]\n",
      "parameters: 19/81\n",
      "lr =  0.001 ws= 0.1 last 3 train_acc:  [1.0, 1.0, 1.0]\n",
      "parameters: 20/81\n",
      "lr =  0.001 ws= 0.01 last 3 train_acc:  [0.14, 0.14, 0.12]\n",
      "parameters: 21/81\n",
      "lr =  0.001 ws= 0.001 last 3 train_acc:  [0.16, 0.16, 0.16]\n",
      "parameters: 22/81\n",
      "lr =  0.001 ws= 0.0001 last 3 train_acc:  [0.16, 0.16, 0.16]\n",
      "parameters: 23/81\n",
      "lr =  0.001 ws= 1e-05 last 3 train_acc:  [0.16, 0.16, 0.16]\n",
      "parameters: 24/81\n",
      "lr =  0.001 ws= 1e-06 last 3 train_acc:  [0.16, 0.16, 0.16]\n",
      "parameters: 25/81\n",
      "lr =  0.001 ws= 1e-07 last 3 train_acc:  [0.16, 0.16, 0.16]\n",
      "parameters: 26/81\n",
      "lr =  0.001 ws= 1e-08 last 3 train_acc:  [0.16, 0.16, 0.16]\n",
      "parameters: 27/81\n",
      "lr =  0.001 ws= 1e-09 last 3 train_acc:  [0.16, 0.16, 0.16]\n",
      "parameters: 28/81\n",
      "lr =  0.0001 ws= 0.1 last 3 train_acc:  [0.86, 0.88, 0.94]\n",
      "parameters: 29/81\n",
      "lr =  0.0001 ws= 0.01 last 3 train_acc:  [0.14, 0.14, 0.14]\n",
      "parameters: 30/81\n",
      "lr =  0.0001 ws= 0.001 last 3 train_acc:  [0.16, 0.16, 0.16]\n",
      "parameters: 31/81\n",
      "lr =  0.0001 ws= 0.0001 last 3 train_acc:  [0.16, 0.16, 0.16]\n",
      "parameters: 32/81\n",
      "lr =  0.0001 ws= 1e-05 last 3 train_acc:  [0.16, 0.16, 0.16]\n",
      "parameters: 33/81\n",
      "lr =  0.0001 ws= 1e-06 last 3 train_acc:  [0.16, 0.16, 0.16]\n",
      "parameters: 34/81\n",
      "lr =  0.0001 ws= 1e-07 last 3 train_acc:  [0.16, 0.16, 0.16]\n",
      "parameters: 35/81\n",
      "lr =  0.0001 ws= 1e-08 last 3 train_acc:  [0.16, 0.16, 0.16]\n",
      "parameters: 36/81\n",
      "lr =  0.0001 ws= 1e-09 last 3 train_acc:  [0.16, 0.16, 0.16]\n",
      "parameters: 37/81\n",
      "lr =  1e-05 ws= 0.1 last 3 train_acc:  [0.18, 0.2, 0.2]\n",
      "parameters: 38/81\n",
      "lr =  1e-05 ws= 0.01 last 3 train_acc:  [0.1, 0.1, 0.1]\n",
      "parameters: 39/81\n",
      "lr =  1e-05 ws= 0.001 last 3 train_acc:  [0.16, 0.16, 0.16]\n",
      "parameters: 40/81\n",
      "lr =  1e-05 ws= 0.0001 last 3 train_acc:  [0.16, 0.16, 0.16]\n",
      "parameters: 41/81\n",
      "lr =  1e-05 ws= 1e-05 last 3 train_acc:  [0.16, 0.16, 0.16]\n",
      "parameters: 42/81\n",
      "lr =  1e-05 ws= 1e-06 last 3 train_acc:  [0.16, 0.16, 0.16]\n",
      "parameters: 43/81\n",
      "lr =  1e-05 ws= 1e-07 last 3 train_acc:  [0.16, 0.16, 0.16]\n",
      "parameters: 44/81\n",
      "lr =  1e-05 ws= 1e-08 last 3 train_acc:  [0.16, 0.16, 0.16]\n",
      "parameters: 45/81\n",
      "lr =  1e-05 ws= 1e-09 last 3 train_acc:  [0.16, 0.16, 0.16]\n",
      "parameters: 46/81\n",
      "lr =  1e-06 ws= 0.1 last 3 train_acc:  [0.04, 0.04, 0.04]\n",
      "parameters: 47/81\n",
      "lr =  1e-06 ws= 0.01 last 3 train_acc:  [0.08, 0.08, 0.08]\n",
      "parameters: 48/81\n",
      "lr =  1e-06 ws= 0.001 last 3 train_acc:  [0.16, 0.16, 0.16]\n",
      "parameters: 49/81\n",
      "lr =  1e-06 ws= 0.0001 last 3 train_acc:  [0.16, 0.16, 0.16]\n",
      "parameters: 50/81\n",
      "lr =  1e-06 ws= 1e-05 last 3 train_acc:  [0.16, 0.16, 0.16]\n",
      "parameters: 51/81\n",
      "lr =  1e-06 ws= 1e-06 last 3 train_acc:  [0.16, 0.16, 0.16]\n",
      "parameters: 52/81\n",
      "lr =  1e-06 ws= 1e-07 last 3 train_acc:  [0.16, 0.16, 0.16]\n",
      "parameters: 53/81\n",
      "lr =  1e-06 ws= 1e-08 last 3 train_acc:  [0.16, 0.16, 0.16]\n",
      "parameters: 54/81\n",
      "lr =  1e-06 ws= 1e-09 last 3 train_acc:  [0.16, 0.16, 0.16]\n",
      "parameters: 55/81\n",
      "lr =  1e-07 ws= 0.1 last 3 train_acc:  [0.02, 0.02, 0.02]\n",
      "parameters: 56/81\n",
      "lr =  1e-07 ws= 0.01 last 3 train_acc:  [0.02, 0.02, 0.02]\n",
      "parameters: 57/81\n",
      "lr =  1e-07 ws= 0.001 last 3 train_acc:  [0.16, 0.16, 0.16]\n",
      "parameters: 58/81\n",
      "lr =  1e-07 ws= 0.0001 last 3 train_acc:  [0.16, 0.16, 0.16]\n",
      "parameters: 59/81\n",
      "lr =  1e-07 ws= 1e-05 last 3 train_acc:  [0.16, 0.16, 0.16]\n",
      "parameters: 60/81\n",
      "lr =  1e-07 ws= 1e-06 last 3 train_acc:  [0.16, 0.16, 0.16]\n",
      "parameters: 61/81\n",
      "lr =  1e-07 ws= 1e-07 last 3 train_acc:  [0.16, 0.16, 0.16]\n",
      "parameters: 62/81\n",
      "lr =  1e-07 ws= 1e-08 last 3 train_acc:  [0.16, 0.16, 0.16]\n",
      "parameters: 63/81\n",
      "lr =  1e-07 ws= 1e-09 last 3 train_acc:  [0.16, 0.16, 0.16]\n",
      "parameters: 64/81\n",
      "lr =  1e-08 ws= 0.1 last 3 train_acc:  [0.04, 0.04, 0.04]\n",
      "parameters: 65/81\n",
      "lr =  1e-08 ws= 0.01 last 3 train_acc:  [0.12, 0.12, 0.12]\n",
      "parameters: 66/81\n",
      "lr =  1e-08 ws= 0.001 last 3 train_acc:  [0.14, 0.14, 0.16]\n",
      "parameters: 67/81\n",
      "lr =  1e-08 ws= 0.0001 last 3 train_acc:  [0.16, 0.16, 0.16]\n",
      "parameters: 68/81\n",
      "lr =  1e-08 ws= 1e-05 last 3 train_acc:  [0.16, 0.16, 0.16]\n",
      "parameters: 69/81\n",
      "lr =  1e-08 ws= 1e-06 last 3 train_acc:  [0.16, 0.16, 0.16]\n",
      "parameters: 70/81\n",
      "lr =  1e-08 ws= 1e-07 last 3 train_acc:  [0.16, 0.16, 0.16]\n",
      "parameters: 71/81\n",
      "lr =  1e-08 ws= 1e-08 last 3 train_acc:  [0.16, 0.16, 0.16]\n",
      "parameters: 72/81\n",
      "lr =  1e-08 ws= 1e-09 last 3 train_acc:  [0.16, 0.16, 0.16]\n",
      "parameters: 73/81\n",
      "lr =  1e-09 ws= 0.1 last 3 train_acc:  [0.1, 0.1, 0.1]\n",
      "parameters: 74/81\n",
      "lr =  1e-09 ws= 0.01 last 3 train_acc:  [0.16, 0.16, 0.16]\n",
      "parameters: 75/81\n",
      "lr =  1e-09 ws= 0.001 last 3 train_acc:  [0.14, 0.14, 0.14]\n",
      "parameters: 76/81\n",
      "lr =  1e-09 ws= 0.0001 last 3 train_acc:  [0.16, 0.16, 0.16]\n",
      "parameters: 77/81\n",
      "lr =  1e-09 ws= 1e-05 last 3 train_acc:  [0.16, 0.16, 0.16]\n",
      "parameters: 78/81\n",
      "lr =  1e-09 ws= 1e-06 last 3 train_acc:  [0.16, 0.16, 0.16]\n",
      "parameters: 79/81\n",
      "lr =  1e-09 ws= 1e-07 last 3 train_acc:  [0.16, 0.16, 0.16]\n",
      "parameters: 80/81\n",
      "lr =  1e-09 ws= 1e-08 last 3 train_acc:  [0.16, 0.16, 0.16]\n",
      "parameters: 81/81\n",
      "lr =  1e-09 ws= 1e-09 last 3 train_acc:  [0.16, 0.16, 0.16]\n"
     ]
    },
    {
     "name": "stderr",
     "output_type": "stream",
     "text": [
      "/home/cs231n/assignment2/cs231n/layers.py:561: RuntimeWarning: invalid value encountered in subtract\n",
      "  shifted_logits = x - np.max(x, axis=1, keepdims=True)  # s - s_max\n",
      "/home/cs231n/assignment2/cs231n/classifiers/fc_net.py:305: RuntimeWarning: invalid value encountered in double_scalars\n",
      "  reg_loss *= 0.5 * self.reg\n"
     ]
    }
   ],
   "source": [
    "# TODO: Use a five-layer Net to overfit 50 training examples.\n",
    "\n",
    "num_train = 50\n",
    "small_data = {\n",
    "  'X_train': data['X_train'][:num_train],\n",
    "  'y_train': data['y_train'][:num_train],\n",
    "  'X_val': data['X_val'],\n",
    "  'y_val': data['y_val'],\n",
    "}\n",
    "\n",
    "# grid search to find the lr and weight_scale\n",
    "pows = -1 * (np.arange(9) + 1)  # -1 to -10\n",
    "learning_rates = np.power(10.0, pows)  # 10^-1 to 10^-10\n",
    "weight_scales = learning_rates  # same range\n",
    "num_params = len(learning_rates) * len(weight_scales)\n",
    "params_count = 1\n",
    "\n",
    "# best hyper-parameter set:\n",
    "# learning_rate = 1e-3\n",
    "# weight_scale = 0.1\n",
    "\n",
    "for learning_rate in learning_rates:\n",
    "    for weight_scale in weight_scales:\n",
    "        \n",
    "        model = FullyConnectedNet([100, 100, 100, 100],\n",
    "                        weight_scale=weight_scale, dtype=np.float64)\n",
    "        solver = Solver(model, small_data,\n",
    "                        print_every=10, num_epochs=20, batch_size=25,\n",
    "                        update_rule='sgd',\n",
    "                        verbose=False,\n",
    "                        optim_config={\n",
    "                          'learning_rate': learning_rate,\n",
    "                        }\n",
    "                 )\n",
    "        solver.train()\n",
    "        print(\"parameters: %d/%d\" % (params_count, num_params))\n",
    "        print(\"lr = \", learning_rate, \"ws=\", weight_scale, \"last 3 train_acc: \", solver.train_acc_history[-3:])\n",
    "        params_count += 1\n",
    "        \n",
    "# plt.plot(solver.loss_history, 'o')\n",
    "# plt.title('Training loss history')\n",
    "# plt.xlabel('Iteration')\n",
    "# plt.ylabel('Training loss')\n",
    "# plt.show()"
   ]
  },
  {
   "cell_type": "markdown",
   "metadata": {},
   "source": [
    "\\[2017 Nov 2\\]  \n",
    "**My note**:  \n",
    "Best hyper-parameters that achieved overfitiing are:\n",
    "- For 3-layer net: learning rate = $10^{-2}$, weight_scale = $10^{-2}$\n",
    "- For 5-layer net: learning rate = $10^{-3}$, weight_scale = $0.1$"
   ]
  },
  {
   "cell_type": "markdown",
   "metadata": {},
   "source": [
    "# Inline question: \n",
    "Did you notice anything about the comparative difficulty of training the three-layer net vs training the five layer net?\n",
    "\n",
    "# Answer:\n",
    "It seems that a 5-layer net is more sensitive to the choice of hyper-parameters than a 3-layer net.   \n",
    "Most sets of (learning rate, weight_scale) does not work well on 5-layer net.\n"
   ]
  },
  {
   "cell_type": "markdown",
   "metadata": {},
   "source": [
    "# Update rules\n",
    "So far we have used vanilla stochastic gradient descent (SGD) as our update rule. More sophisticated update rules can make it easier to train deep networks. We will implement a few of the most commonly used update rules and compare them to vanilla SGD."
   ]
  },
  {
   "cell_type": "markdown",
   "metadata": {},
   "source": [
    "# SGD+Momentum\n",
    "Stochastic gradient descent with momentum is a widely used update rule that tends to make deep networks converge faster than vanilla stochstic gradient descent.\n",
    "\n",
    "Open the file `cs231n/optim.py` and read the documentation at the top of the file to make sure you understand the API. Implement the SGD+momentum update rule in the function `sgd_momentum` and run the following to check your implementation. You should see errors less than 1e-8."
   ]
  },
  {
   "cell_type": "markdown",
   "metadata": {},
   "source": [
    "Change made  \n",
    "next_w error:  8.88234703351e-09  \n",
    "velocity error:  4.26928774328e-09  "
   ]
  },
  {
   "cell_type": "code",
   "execution_count": 8,
   "metadata": {
    "collapsed": false
   },
   "outputs": [
    {
     "name": "stdout",
     "output_type": "stream",
     "text": [
      "next_w error:  8.882347033505819e-09\n",
      "velocity error:  4.269287743278663e-09\n"
     ]
    }
   ],
   "source": [
    "from cs231n.optim import sgd_momentum\n",
    "\n",
    "N, D = 4, 5\n",
    "w = np.linspace(-0.4, 0.6, num=N*D).reshape(N, D)\n",
    "dw = np.linspace(-0.6, 0.4, num=N*D).reshape(N, D)\n",
    "v = np.linspace(0.6, 0.9, num=N*D).reshape(N, D)\n",
    "\n",
    "config = {'learning_rate': 1e-3, 'velocity': v}\n",
    "next_w, _ = sgd_momentum(w, dw, config=config)\n",
    "\n",
    "expected_next_w = np.asarray([ sfsddf\n",
    "  [ 0.1406,      0.20738947,  0.27417895,  0.34096842,  0.40775789],\n",
    "  [ 0.47454737,  0.54133684,  0.60812632,  0.67491579,  0.74170526],\n",
    "  [ 0.80849474,  0.87528421,  0.94207368,  1.00886316,  1.07565263],\n",
    "  [ 1.14244211,  1.20923158,  1.27602105,  1.34281053,  1.4096    ]])\n",
    "expected_velocity = np.asarray([\n",
    "  [ 0.5406,      0.55475789,  0.56891579, 0.58307368,  0.59723158],\n",
    "  [ 0.61138947,  0.62554737,  0.63970526,  0.65386316,  0.66802105],\n",
    "  [ 0.68217895,  0.69633684,  0.71049474,  0.72465263,  0.73881053],\n",
    "  [ 0.75296842,  0.76712632,  0.78128421,  0.79544211,  0.8096    ]])\n",
    "\n",
    "print('next_w error: ', rel_error(next_w, expected_next_w))\n",
    "print('velocity error: ', rel_error(expected_velocity, config['velocity']))"
   ]
  },
  {
   "cell_type": "markdown",
   "metadata": {},
   "source": [
    "Once you have done so, run the following to train a six-layer network with both SGD and SGD+momentum. You should see the SGD+momentum update rule converge faster."
   ]
  },
  {
   "cell_type": "code",
   "execution_count": 5,
   "metadata": {
    "collapsed": false,
    "scrolled": false
   },
   "outputs": [
    {
     "name": "stdout",
     "output_type": "stream",
     "text": [
      "running with  sgd\n",
      "(Iteration 1 / 200) loss: 2.691780\n",
      "(Epoch 0 / 5) train acc: 0.111000; val_acc: 0.117000\n",
      "(Iteration 11 / 200) loss: 2.229131\n",
      "(Iteration 21 / 200) loss: 2.132832\n",
      "(Iteration 31 / 200) loss: 2.165424\n",
      "(Epoch 1 / 5) train acc: 0.264000; val_acc: 0.254000\n",
      "(Iteration 41 / 200) loss: 2.084431\n",
      "(Iteration 51 / 200) loss: 2.066372\n",
      "(Iteration 61 / 200) loss: 1.838026\n",
      "(Iteration 71 / 200) loss: 1.961447\n",
      "(Epoch 2 / 5) train acc: 0.297000; val_acc: 0.293000\n",
      "(Iteration 81 / 200) loss: 2.064059\n",
      "(Iteration 91 / 200) loss: 1.989440\n",
      "(Iteration 101 / 200) loss: 1.819136\n",
      "(Iteration 111 / 200) loss: 1.856587\n",
      "(Epoch 3 / 5) train acc: 0.382000; val_acc: 0.303000\n",
      "(Iteration 121 / 200) loss: 1.661430\n",
      "(Iteration 131 / 200) loss: 1.809666\n",
      "(Iteration 141 / 200) loss: 1.779333\n",
      "(Iteration 151 / 200) loss: 1.722295\n",
      "(Epoch 4 / 5) train acc: 0.423000; val_acc: 0.325000\n",
      "(Iteration 161 / 200) loss: 1.802593\n",
      "(Iteration 171 / 200) loss: 1.869057\n",
      "(Iteration 181 / 200) loss: 1.758246\n",
      "(Iteration 191 / 200) loss: 1.522101\n",
      "(Epoch 5 / 5) train acc: 0.424000; val_acc: 0.334000\n",
      "\n",
      "running with  sgd_momentum\n",
      "(Iteration 1 / 200) loss: 2.721488\n",
      "(Epoch 0 / 5) train acc: 0.116000; val_acc: 0.102000\n",
      "(Iteration 11 / 200) loss: 2.198846\n",
      "(Iteration 21 / 200) loss: 2.041817\n",
      "(Iteration 31 / 200) loss: 1.893423\n",
      "(Epoch 1 / 5) train acc: 0.315000; val_acc: 0.276000\n",
      "(Iteration 41 / 200) loss: 1.786450\n",
      "(Iteration 51 / 200) loss: 1.754823\n",
      "(Iteration 61 / 200) loss: 1.757122\n",
      "(Iteration 71 / 200) loss: 1.798618\n",
      "(Epoch 2 / 5) train acc: 0.374000; val_acc: 0.287000\n",
      "(Iteration 81 / 200) loss: 1.777281\n",
      "(Iteration 91 / 200) loss: 1.645633\n",
      "(Iteration 101 / 200) loss: 1.689209\n",
      "(Iteration 111 / 200) loss: 1.806550\n",
      "(Epoch 3 / 5) train acc: 0.438000; val_acc: 0.341000\n",
      "(Iteration 121 / 200) loss: 1.422009\n",
      "(Iteration 131 / 200) loss: 1.545370\n",
      "(Iteration 141 / 200) loss: 1.490349\n",
      "(Iteration 151 / 200) loss: 1.368204\n",
      "(Epoch 4 / 5) train acc: 0.494000; val_acc: 0.315000\n",
      "(Iteration 161 / 200) loss: 1.396617\n",
      "(Iteration 171 / 200) loss: 1.304541\n",
      "(Iteration 181 / 200) loss: 1.257658\n",
      "(Iteration 191 / 200) loss: 1.556115\n",
      "(Epoch 5 / 5) train acc: 0.513000; val_acc: 0.366000\n",
      "\n"
     ]
    },
    {
     "data": {
      "image/png": "[encoded data removed]",
      "text/plain": [
       "<matplotlib.figure.Figure at 0x7f375b7eb6d8>"
      ]
     },
     "metadata": {},
     "output_type": "display_data"
    }
   ],
   "source": [
    "num_train = 4000\n",
    "small_data = {\n",
    "  'X_train': data['X_train'][:num_train],\n",
    "  'y_train': data['y_train'][:num_train],\n",
    "  'X_val': data['X_val'],\n",
    "  'y_val': data['y_val'],\n",
    "}\n",
    "\n",
    "solvers = {}\n",
    "\n",
    "for update_rule in ['sgd', 'sgd_momentum']:\n",
    "  print('running with ', update_rule)\n",
    "  model = FullyConnectedNet([100, 100, 100, 100, 100], weight_scale=5e-2)\n",
    "\n",
    "  solver = Solver(model, small_data,\n",
    "                  num_epochs=5, batch_size=100,\n",
    "                  update_rule=update_rule,\n",
    "                  optim_config={\n",
    "                    'learning_rate': 1e-2,\n",
    "                  },\n",
    "                  verbose=True)\n",
    "  solvers[update_rule] = solver\n",
    "  solver.train()\n",
    "  print()\n",
    "\n",
    "plt.subplot(3, 1, 1)\n",
    "plt.title('Training loss')\n",
    "plt.xlabel('Iteration')\n",
    "\n",
    "plt.subplot(3, 1, 2)\n",
    "plt.title('Training accuracy')\n",
    "plt.xlabel('Epoch')\n",
    "\n",
    "plt.subplot(3, 1, 3)\n",
    "plt.title('Validation accuracy')\n",
    "plt.xlabel('Epoch')\n",
    "\n",
    "for update_rule, solver in list(solvers.items()):\n",
    "  plt.subplot(3, 1, 1)\n",
    "  plt.plot(solver.loss_history, 'o', label=update_rule)\n",
    "  \n",
    "  plt.subplot(3, 1, 2)\n",
    "  plt.plot(solver.train_acc_history, '-o', label=update_rule)\n",
    "\n",
    "  plt.subplot(3, 1, 3)\n",
    "  plt.plot(solver.val_acc_history, '-o', label=update_rule)\n",
    "  \n",
    "for i in [1, 2, 3]:\n",
    "  plt.subplot(3, 1, i)\n",
    "  plt.legend(loc='upper center', ncol=4)\n",
    "plt.gcf().set_size_inches(15, 15)\n",
    "plt.show()"
   ]
  },
  {
   "cell_type": "markdown",
   "metadata": {},
   "source": [
    "# Nesterov Momentum\n",
    "Self-implemented Nesterov Momentum. Test it out with mini traning here."
   ]
  },
  {
   "cell_type": "code",
   "execution_count": 7,
   "metadata": {
    "collapsed": false,
    "scrolled": true
   },
   "outputs": [
    {
     "name": "stdout",
     "output_type": "stream",
     "text": [
      "running with  nesterov_momentum\n",
      "(Iteration 1 / 200) loss: 2.264586\n",
      "(Epoch 0 / 5) train acc: 0.150000; val_acc: 0.146000\n",
      "(Iteration 11 / 200) loss: 2.098688\n",
      "(Iteration 21 / 200) loss: 1.958757\n",
      "(Iteration 31 / 200) loss: 1.834663\n",
      "(Epoch 1 / 5) train acc: 0.353000; val_acc: 0.293000\n",
      "(Iteration 41 / 200) loss: 1.804728\n",
      "(Iteration 51 / 200) loss: 1.739224\n",
      "(Iteration 61 / 200) loss: 1.733921\n",
      "(Iteration 71 / 200) loss: 1.652637\n",
      "(Epoch 2 / 5) train acc: 0.431000; val_acc: 0.337000\n",
      "(Iteration 81 / 200) loss: 1.562967\n",
      "(Iteration 91 / 200) loss: 1.459574\n",
      "(Iteration 101 / 200) loss: 1.490047\n",
      "(Iteration 111 / 200) loss: 1.373179\n",
      "(Epoch 3 / 5) train acc: 0.507000; val_acc: 0.378000\n",
      "(Iteration 121 / 200) loss: 1.611615\n",
      "(Iteration 131 / 200) loss: 1.213800\n",
      "(Iteration 141 / 200) loss: 1.334758\n",
      "(Iteration 151 / 200) loss: 1.345106\n",
      "(Epoch 4 / 5) train acc: 0.523000; val_acc: 0.347000\n",
      "(Iteration 161 / 200) loss: 1.309007\n",
      "(Iteration 171 / 200) loss: 1.234420\n",
      "(Iteration 181 / 200) loss: 1.497596\n",
      "(Iteration 191 / 200) loss: 1.251688\n",
      "(Epoch 5 / 5) train acc: 0.600000; val_acc: 0.365000\n",
      "\n"
     ]
    },
    {
     "data": {
      "image/png": "[encoded data removed]",
      "text/plain": [
       "<matplotlib.figure.Figure at 0x7f3759743550>"
      ]
     },
     "metadata": {},
     "output_type": "display_data"
    }
   ],
   "source": [
    "from cs231n.optim import nesterov_momentum\n",
    "\n",
    "num_train = 4000\n",
    "small_data = {\n",
    "  'X_train': data['X_train'][:num_train],\n",
    "  'y_train': data['y_train'][:num_train],\n",
    "  'X_val': data['X_val'],\n",
    "  'y_val': data['y_val'],\n",
    "}\n",
    "\n",
    "update_rule = 'nesterov_momentum'\n",
    "print('running with ', update_rule)\n",
    "\n",
    "# A 5-layer FCN\n",
    "model = FullyConnectedNet([100, 100, 100, 100, 100], weight_scale=5e-2)\n",
    "solver = Solver(model, small_data,\n",
    "              num_epochs=5, batch_size=100,\n",
    "              update_rule=update_rule,\n",
    "              optim_config={\n",
    "                'learning_rate': 1e-2,\n",
    "              },\n",
    "              verbose=True)\n",
    "\n",
    "solver.train()\n",
    "print()\n",
    "\n",
    "plt.subplot(3, 1, 1)\n",
    "plt.title('Training loss')\n",
    "plt.xlabel('Iteration')\n",
    "plt.plot(solver.loss_history, 'o', label=update_rule)\n",
    "\n",
    "plt.subplot(3, 1, 2)\n",
    "plt.title('Training accuracy')\n",
    "plt.xlabel('Epoch')\n",
    "plt.plot(solver.train_acc_history, '-o', label=update_rule)\n",
    "\n",
    "plt.subplot(3, 1, 3)\n",
    "plt.title('Validation accuracy')\n",
    "plt.xlabel('Epoch')\n",
    "plt.plot(solver.val_acc_history, '-o', label=update_rule)\n",
    "\n",
    "for i in [1, 2, 3]:\n",
    "  plt.subplot(3, 1, i)\n",
    "  plt.legend(loc='upper center', ncol=4)\n",
    "plt.gcf().set_size_inches(15, 15)\n",
    "plt.show()"
   ]
  },
  {
   "cell_type": "markdown",
   "metadata": {},
   "source": [
    "My note:  \n",
    "\n",
    "Sample training with 4000 training examples shows that Nesterov Momentum trains **faster** than SGD+Momentum method. Traning accuracy reached 56%+ with this update method comparing to Momentum which reached 51% after 200 iterations."
   ]
  },
  {
   "cell_type": "markdown",
   "metadata": {},
   "source": [
    "# RMSProp and Adam\n",
    "RMSProp [1] and Adam [2] are update rules that set per-parameter learning rates by using a running average of the second moments of gradients.\n",
    "\n",
    "In the file `cs231n/optim.py`, implement the RMSProp update rule in the `rmsprop` function and implement the Adam update rule in the `adam` function, and check your implementations using the tests below.\n",
    "\n",
    "[1] Tijmen Tieleman and Geoffrey Hinton. \"Lecture 6.5-rmsprop: Divide the gradient by a running average of its recent magnitude.\" COURSERA: Neural Networks for Machine Learning 4 (2012).\n",
    "\n",
    "[2] Diederik Kingma and Jimmy Ba, \"Adam: A Method for Stochastic Optimization\", ICLR 2015."
   ]
  },
  {
   "cell_type": "code",
   "execution_count": null,
   "metadata": {
    "collapsed": true
   },
   "outputs": [],
   "source": [
    "# Test RMSProp implementation; you should see errors less than 1e-7\n",
    "from cs231n.optim import rmsprop\n",
    "\n",
    "N, D = 4, 5\n",
    "w = np.linspace(-0.4, 0.6, num=N*D).reshape(N, D)\n",
    "dw = np.linspace(-0.6, 0.4, num=N*D).reshape(N, D)\n",
    "cache = np.linspace(0.6, 0.9, num=N*D).reshape(N, D)\n",
    "\n",
    "config = {'learning_rate': 1e-2, 'cache': cache}\n",
    "next_w, _ = rmsprop(w, dw, config=config)\n",
    "\n",
    "expected_next_w = np.asarray([\n",
    "  [-0.39223849, -0.34037513, -0.28849239, -0.23659121, -0.18467247],\n",
    "  [-0.132737,   -0.08078555, -0.02881884,  0.02316247,  0.07515774],\n",
    "  [ 0.12716641,  0.17918792,  0.23122175,  0.28326742,  0.33532447],\n",
    "  [ 0.38739248,  0.43947102,  0.49155973,  0.54365823,  0.59576619]])\n",
    "expected_cache = np.asarray([\n",
    "  [ 0.5976,      0.6126277,   0.6277108,   0.64284931,  0.65804321],\n",
    "  [ 0.67329252,  0.68859723,  0.70395734,  0.71937285,  0.73484377],\n",
    "  [ 0.75037008,  0.7659518,   0.78158892,  0.79728144,  0.81302936],\n",
    "  [ 0.82883269,  0.84469141,  0.86060554,  0.87657507,  0.8926    ]])\n",
    "\n",
    "print('next_w error: ', rel_error(expected_next_w, next_w))\n",
    "print('cache error: ', rel_error(expected_cache, config['cache']))"
   ]
  },
  {
   "cell_type": "code",
   "execution_count": null,
   "metadata": {
    "collapsed": true
   },
   "outputs": [],
   "source": [
    "# Test Adam implementation; you should see errors around 1e-7 or less\n",
    "from cs231n.optim import adam\n",
    "\n",
    "N, D = 4, 5\n",
    "w = np.linspace(-0.4, 0.6, num=N*D).reshape(N, D)\n",
    "dw = np.linspace(-0.6, 0.4, num=N*D).reshape(N, D)\n",
    "m = np.linspace(0.6, 0.9, num=N*D).reshape(N, D)\n",
    "v = np.linspace(0.7, 0.5, num=N*D).reshape(N, D)\n",
    "\n",
    "config = {'learning_rate': 1e-2, 'm': m, 'v': v, 't': 5}\n",
    "next_w, _ = adam(w, dw, config=config)\n",
    "   \n",
    "expected_next_w = np.asarray([\n",
    "  [-0.40094747, -0.34836187, -0.29577703, -0.24319299, -0.19060977],\n",
    "  [-0.1380274,  -0.08544591, -0.03286534,  0.01971428,  0.0722929],\n",
    "  [ 0.1248705,   0.17744702,  0.23002243,  0.28259667,  0.33516969],\n",
    "  [ 0.38774145,  0.44031188,  0.49288093,  0.54544852,  0.59801459]])\n",
    "expected_v = np.asarray([\n",
    "  [ 0.69966,     0.68908382,  0.67851319,  0.66794809,  0.65738853,],\n",
    "  [ 0.64683452,  0.63628604,  0.6257431,   0.61520571,  0.60467385,],\n",
    "  [ 0.59414753,  0.58362676,  0.57311152,  0.56260183,  0.55209767,],\n",
    "  [ 0.54159906,  0.53110598,  0.52061845,  0.51013645,  0.49966,   ]])\n",
    "expected_m = np.asarray([\n",
    "  [ 0.48,        0.49947368,  0.51894737,  0.53842105,  0.55789474],\n",
    "  [ 0.57736842,  0.59684211,  0.61631579,  0.63578947,  0.65526316],\n",
    "  [ 0.67473684,  0.69421053,  0.71368421,  0.73315789,  0.75263158],\n",
    "  [ 0.77210526,  0.79157895,  0.81105263,  0.83052632,  0.85      ]])\n",
    "\n",
    "print('next_w error: ', rel_error(expected_next_w, next_w))\n",
    "print('v error: ', rel_error(expected_v, config['v']))\n",
    "print('m error: ', rel_error(expected_m, config['m']))"
   ]
  },
  {
   "cell_type": "markdown",
   "metadata": {},
   "source": [
    "**Question on t**:  \n",
    "t = number of iteration  \n",
    "Should t be updated before bias correction, the `next_w` error is smaller.\n",
    "Current implementation, which I believe is correct, results in a `next_w` error of: 0.00152184517579"
   ]
  },
  {
   "cell_type": "markdown",
   "metadata": {},
   "source": [
    "Once you have debugged your RMSProp and Adam implementations, run the following to train a pair of deep networks using these new update rules:"
   ]
  },
  {
   "cell_type": "code",
   "execution_count": null,
   "metadata": {
    "collapsed": true
   },
   "outputs": [],
   "source": [
    "learning_rates = {'rmsprop': 1e-4, 'adam': 1e-3}\n",
    "for update_rule in ['adam', 'rmsprop']:\n",
    "  print('running with ', update_rule)\n",
    "  model = FullyConnectedNet([100, 100, 100, 100, 100], weight_scale=5e-2)\n",
    "\n",
    "  solver = Solver(model, small_data,\n",
    "                  num_epochs=5, batch_size=100,\n",
    "                  update_rule=update_rule,\n",
    "                  optim_config={\n",
    "                    'learning_rate': learning_rates[update_rule]\n",
    "                  },\n",
    "                  verbose=True)\n",
    "  solvers[update_rule] = solver\n",
    "  solver.train()\n",
    "  print()\n",
    "\n",
    "plt.subplot(3, 1, 1)\n",
    "plt.title('Training loss')\n",
    "plt.xlabel('Iteration')\n",
    "\n",
    "plt.subplot(3, 1, 2)\n",
    "plt.title('Training accuracy')\n",
    "plt.xlabel('Epoch')\n",
    "\n",
    "plt.subplot(3, 1, 3)\n",
    "plt.title('Validation accuracy')\n",
    "plt.xlabel('Epoch')\n",
    "\n",
    "for update_rule, solver in list(solvers.items()):\n",
    "  plt.subplot(3, 1, 1)\n",
    "  plt.plot(solver.loss_history, 'o', label=update_rule)\n",
    "  \n",
    "  plt.subplot(3, 1, 2)\n",
    "  plt.plot(solver.train_acc_history, '-o', label=update_rule)\n",
    "\n",
    "  plt.subplot(3, 1, 3)\n",
    "  plt.plot(solver.val_acc_history, '-o', label=update_rule)\n",
    "  \n",
    "for i in [1, 2, 3]:\n",
    "  plt.subplot(3, 1, i)\n",
    "  plt.legend(loc='upper center', ncol=4)\n",
    "plt.gcf().set_size_inches(15, 15)\n",
    "plt.show()"
   ]
  },
  {
   "cell_type": "markdown",
   "metadata": {},
   "source": [
    "# Train a good model!\n",
    "Train the best fully-connected model that you can on CIFAR-10, storing your best model in the `best_model` variable. We require you to get at least 50% accuracy on the validation set using a fully-connected net.\n",
    "\n",
    "If you are careful it should be possible to get accuracies above 55%, but we don't require it for this part and won't assign extra credit for doing so. Later in the assignment we will ask you to train the best convolutional network that you can on CIFAR-10, and we would prefer that you spend your effort working on convolutional nets rather than fully-connected nets.\n",
    "\n",
    "You might find it useful to complete the `BatchNormalization.ipynb` and `Dropout.ipynb` notebooks before completing this part, since those techniques can help you train powerful models."
   ]
  },
  {
   "cell_type": "code",
   "execution_count": null,
   "metadata": {
    "collapsed": true,
    "scrolled": false
   },
   "outputs": [],
   "source": [
    "best_model = None\n",
    "################################################################################\n",
    "# TODO: Train the best FullyConnectedNet that you can on CIFAR-10. You might   #\n",
    "# batch normalization and dropout useful. Store your best model in the         #\n",
    "# best_model variable.                                                         #\n",
    "################################################################################\n",
    "pass\n",
    "################################################################################\n",
    "#                              END OF YOUR CODE                                #\n",
    "################################################################################"
   ]
  },
  {
   "cell_type": "markdown",
   "metadata": {},
   "source": [
    "# Test you model\n",
    "Run your best model on the validation and test sets. You should achieve above 50% accuracy on the validation set."
   ]
  },
  {
   "cell_type": "code",
   "execution_count": null,
   "metadata": {
    "collapsed": true
   },
   "outputs": [],
   "source": [
    "y_test_pred = np.argmax(best_model.loss(data['X_test']), axis=1)\n",
    "y_val_pred = np.argmax(best_model.loss(data['X_val']), axis=1)\n",
    "print('Validation set accuracy: ', (y_val_pred == data['y_val']).mean())\n",
    "print('Test set accuracy: ', (y_test_pred == data['y_test']).mean())"
   ]
  }
 ],
 "metadata": {
  "kernelspec": {
   "display_name": "Python 3",
   "language": "python",
   "name": "python3"
  },
  "language_info": {
   "codemirror_mode": {
    "name": "ipython",
    "version": 3
   },
   "file_extension": ".py",
   "mimetype": "text/x-python",
   "name": "python",
   "nbconvert_exporter": "python",
   "pygments_lexer": "ipython3",
   "version": "3.5.2"
  }
 },
 "nbformat": 4,
 "nbformat_minor": 1
}
