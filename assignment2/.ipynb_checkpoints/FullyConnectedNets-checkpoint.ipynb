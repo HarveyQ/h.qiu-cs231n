{
 "cells": [
  {
   "cell_type": "markdown",
   "metadata": {},
   "source": [
    "# Fully-Connected Neural Nets\n",
    "In the previous homework you implemented a fully-connected two-layer neural network on CIFAR-10. The implementation was simple but not very modular since the loss and gradient were computed in a **single monolithic function**. This is manageable for a simple two-layer network, but would become impractical as we move to bigger models. Ideally we want to build networks using a more modular design so that we can implement different layer types in isolation and then snap them together into models with different architectures.\n",
    "\n",
    "In this exercise we will implement fully-connected networks using a more modular approach. For each layer we will implement a `forward` and a `backward` function. The `forward` function will receive inputs, weights, and other parameters and will return both an output and a `cache` object storing data needed for the backward pass, like this:\n",
    "\n",
    "```python\n",
    "def layer_forward(x, w):\n",
    "  \"\"\" Receive inputs x and weights w \"\"\"\n",
    "  # Do some computations ...\n",
    "  z = # ... some intermediate value\n",
    "  # Do some more computations ...\n",
    "  out = # the output\n",
    "   \n",
    "  cache = (x, w, z, out) # Values we need to compute gradients\n",
    "   \n",
    "  return out, cache\n",
    "```\n",
    "\n",
    "The backward pass will receive upstream derivatives and the `cache` object, and will return gradients with respect to the inputs and weights, like this:\n",
    "\n",
    "```python\n",
    "def layer_backward(dout, cache):\n",
    "  \"\"\"\n",
    "  Receive derivative of loss with respect to outputs and cache,\n",
    "  and compute derivative with respect to inputs.\n",
    "  \"\"\"\n",
    "  # Unpack cache values\n",
    "  x, w, z, out = cache\n",
    "  \n",
    "  # Use values in cache to compute derivatives\n",
    "  dx = # Derivative of loss with respect to x\n",
    "  dw = # Derivative of loss with respect to w\n",
    "  \n",
    "  return dx, dw\n",
    "```\n",
    "\n",
    "After implementing a bunch of layers this way, we will be able to easily combine them to build classifiers with different architectures.\n",
    "\n",
    "In addition to implementing fully-connected networks of arbitrary depth, we will also explore different update rules for optimization, and introduce Dropout as a regularizer and Batch Normalization as a tool to more efficiently optimize deep networks.\n",
    "  "
   ]
  },
  {
   "cell_type": "code",
   "execution_count": 2,
   "metadata": {},
   "outputs": [],
   "source": [
    "# As usual, a bit of setup\n",
    "from __future__ import print_function\n",
    "import time\n",
    "import numpy as np\n",
    "import matplotlib.pyplot as plt\n",
    "from cs231n.classifiers.fc_net import *\n",
    "from cs231n.data_utils import get_CIFAR10_data\n",
    "from cs231n.gradient_check import eval_numerical_gradient, eval_numerical_gradient_array\n",
    "from cs231n.solver import Solver\n",
    "\n",
    "# some jupyter magic\n",
    "%matplotlib inline\n",
    "plt.rcParams['figure.figsize'] = (10.0, 8.0) # set default size of plots\n",
    "plt.rcParams['image.interpolation'] = 'nearest'\n",
    "plt.rcParams['image.cmap'] = 'gray'\n",
    "\n",
    "# for auto-reloading external modules\n",
    "# see http://stackoverflow.com/questions/1907993/autoreload-of-modules-in-ipython\n",
    "%load_ext autoreload\n",
    "%autoreload 2\n",
    "\n",
    "def rel_error(x, y):\n",
    "  \"\"\" returns relative error \"\"\"\n",
    "  return np.max(np.abs(x - y) / (np.maximum(1e-8, np.abs(x) + np.abs(y))))"
   ]
  },
  {
   "cell_type": "code",
   "execution_count": 15,
   "metadata": {},
   "outputs": [
    {
     "name": "stdout",
     "output_type": "stream",
     "text": [
      "('y_test: ', (1000,))\n",
      "('X_test: ', (1000, 3, 32, 32))\n",
      "('y_train: ', (49000,))\n",
      "('X_train: ', (49000, 3, 32, 32))\n",
      "('X_val: ', (1000, 3, 32, 32))\n",
      "('y_val: ', (1000,))\n"
     ]
    }
   ],
   "source": [
    "# Load the (preprocessed) CIFAR10 data.\n",
    "\n",
    "data = get_CIFAR10_data()\n",
    "for k, v in list(data.items()):\n",
    "  print(('%s: ' % k, v.shape))"
   ]
  },
  {
   "cell_type": "markdown",
   "metadata": {},
   "source": [
    "# Affine layer: foward\n",
    "Open the file `cs231n/layers.py` and implement the `affine_forward` function.\n",
    "\n",
    "Once you are done you can test your implementaion by running the following:"
   ]
  },
  {
   "cell_type": "code",
   "execution_count": 5,
   "metadata": {},
   "outputs": [
    {
     "name": "stdout",
     "output_type": "stream",
     "text": [
      "Testing affine_forward function:\n",
      "difference:  9.76985004799e-10\n"
     ]
    }
   ],
   "source": [
    "# Test the affine_forward function\n",
    "\n",
    "num_inputs = 2  # 2 data points\n",
    "input_shape = (4, 5, 6)  # shape of the data\n",
    "output_dim = 3  # dimension of output\n",
    "\n",
    "input_size = num_inputs * np.prod(input_shape)\n",
    "weight_size = output_dim * np.prod(input_shape)\n",
    "\n",
    "# artificial data\n",
    "x = np.linspace(-0.1, 0.5, num=input_size).reshape(num_inputs, *input_shape)\n",
    "w = np.linspace(-0.2, 0.3, num=weight_size).reshape(np.prod(input_shape), output_dim)\n",
    "b = np.linspace(-0.3, 0.1, num=ougt_tput_dim)  # (3, )\n",
    "\n",
    "out, _ = affine_forward(x, w, b)\n",
    "correct_out = np.array([[ 1.49834967,  1.70660132,  1.91485297],\n",
    "                        [ 3.25553199,  3.5141327,   3.77273342]])\n",
    "\n",
    "# Compare your output with ours. The error should be around 1e-9.\n",
    "print('Testing affine_forward function:')\n",
    "print('difference: ', rel_error(out, correct_out))"
   ]
  },
  {
   "cell_type": "markdown",
   "metadata": {},
   "source": [
    "# Affine layer: backward\n",
    "Now implement the `affine_backward` function and test your implementation using numeric gradient checking."
   ]
  },
  {
   "cell_type": "code",
   "execution_count": null,
   "metadata": {
    "collapsed": true
   },
   "outputs": [],
   "source": [
    "# Test the affine_backward function\n",
    "np.random.seed(231)  # set a random seed\n",
    "x = np.random.randn(10, 2, 3)  # generate random data\n",
    "w = np.random.randn(6, 5)\n",
    "b = np.random.randn(5)\n",
    "dout = np.random.randn(10, 5)  # generate random dout passed from back\n",
    "\n",
    "# numerical gradient using gradient checking\n",
    "dx_num = eval_numerical_gradient_array(lambda x: affine_forward(x, w, b)[0], x, dout)\n",
    "dw_num = eval_numerical_gradient_array(lambda w: affine_forward(x, w, b)[0], w, dout)\n",
    "db_num = eval_numerical_gradient_array(lambda b: affine_forward(x, w, b)[0], b, dout)\n",
    "\n",
    "_, cache = affine_forward(x, w, b)\n",
    "dx, dw, db = affine_backward(dout, cache)\n",
    "\n",
    "# The error should be around 1e-10\n",
    "print('Testing affine_backward function:')\n",
    "print('dx error: ', rel_error(dx_num, dx))\n",
    "print('dw error: ', rel_error(dw_num, dw))\n",
    "print('db error: ', rel_error(db_num, db))"
   ]
  },
  {
   "cell_type": "markdown",
   "metadata": {},
   "source": [
    "# ReLU layer: forward\n",
    "Implement the forward pass for the ReLU activation function in the `relu_forward` function and test your implementation using the following:"
   ]
  },
  {
   "cell_type": "code",
   "execution_count": 3,
   "metadata": {},
   "outputs": [
    {
     "name": "stdout",
     "output_type": "stream",
     "text": [
      "Testing relu_forward function:\n",
      "difference:  4.99999979802e-08\n"
     ]
    }
   ],
   "source": [
    "# Test the relu_forward function\n",
    "\n",
    "x = np.linspace(-0.5, 0.5, num=12).reshape(3, 4)  # artificial data\n",
    "\n",
    "out, _ = relu_forward(x)\n",
    "correct_out = np.array([[ 0.,          0.,          0.,          0.,        ],\n",
    "                        [ 0.,          0.,          0.04545455,  0.13636364,],\n",
    "                        [ 0.22727273,  0.31818182,  0.40909091,  0.5,       ]])\n",
    "\n",
    "# Compare your output with ours. The error should be around 5e-8\n",
    "print('Testing relu_forward function:')\n",
    "print('difference: ', rel_error(out, correct_out))"
   ]
  },
  {
   "cell_type": "markdown",
   "metadata": {},
   "source": [
    "# ReLU layer: backward\n",
    "Now implement the backward pass for the ReLU activation function in the `relu_backward` function and test your implementation using numeric gradient checking:"
   ]
  },
  {
   "cell_type": "code",
   "execution_count": 4,
   "metadata": {},
   "outputs": [
    {
     "name": "stdout",
     "output_type": "stream",
     "text": [
      "Testing relu_backward function:\n",
      "dx error:  3.27563491363e-12\n"
     ]
    }
   ],
   "source": [
    "np.random.seed(231)\n",
    "x = np.random.randn(10, 10)\n",
    "dout = np.random.randn(*x.shape)\n",
    "\n",
    "dx_num = eval_numerical_gradient_array(lambda x: relu_forward(x)[0], x, dout)\n",
    "\n",
    "_, cache = relu_forward(x)\n",
    "dx = relu_backward(dout, cache)\n",
    "\n",
    "# The error should be around 3e-12\n",
    "print('Testing relu_backward function:')\n",
    "print('dx error: ', rel_error(dx_num, dx))"
   ]
  },
  {
   "cell_type": "markdown",
   "metadata": {},
   "source": [
    "# \"Sandwich\" layers\n",
    "There are some common patterns of layers that are frequently used in neural nets. For example, affine layers are frequently followed by a ReLU nonlinearity. To make these common patterns easy, we define several convenience layers in the file `cs231n/layer_utils.py`.\n",
    "\n",
    "For now take a look at the `affine_relu_forward` and `affine_relu_backward` functions, and run the following to numerically gradient check the backward pass:"
   ]
  },
  {
   "cell_type": "code",
   "execution_count": 11,
   "metadata": {},
   "outputs": [
    {
     "name": "stdout",
     "output_type": "stream",
     "text": [
      "Testing affine_relu_forward:\n",
      "dx error:  2.29957917731e-11\n",
      "dw error:  8.16201110576e-11\n",
      "db error:  7.82672402146e-12\n"
     ]
    }
   ],
   "source": [
    "from cs231n.layer_utils import affine_relu_forward, affine_relu_backward\n",
    "np.random.seed(231)\n",
    "x = np.random.randn(2, 3, 4)\n",
    "w = np.random.randn(12, 10)\n",
    "b = np.random.randn(10)\n",
    "dout = np.random.randn(2, 10)\n",
    "\n",
    "out, cache = affine_relu_forward(x, w, b)\n",
    "dx, dw, db = affine_relu_backward(dout, cache)\n",
    "\n",
    "dx_num = eval_numerical_gradient_array(lambda x: affine_relu_forward(x, w, b)[0], x, dout)\n",
    "dw_num = eval_numerical_gradient_array(lambda w: affine_relu_forward(x, w, b)[0], w, dout)\n",
    "db_num = eval_numerical_gradient_array(lambda b: affine_relu_forward(x, w, b)[0], b, dout)\n",
    "\n",
    "print('Testing affine_relu_forward:')\n",
    "print('dx error: ', rel_error(dx_num, dx))\n",
    "print('dw error: ', rel_error(dw_num, dw))\n",
    "print('db error: ', rel_error(db_num, db))"
   ]
  },
  {
   "cell_type": "markdown",
   "metadata": {},
   "source": [
    "# Loss layers: Softmax and SVM\n",
    "You implemented these loss functions in the last assignment, so we'll give them to you for free here. You should still make sure you understand how they work by looking at the implementations in `cs231n/layers.py`.\n",
    "\n",
    "You can make sure that the implementations are correct by running the following:"
   ]
  },
  {
   "cell_type": "code",
   "execution_count": 3,
   "metadata": {},
   "outputs": [
    {
     "name": "stdout",
     "output_type": "stream",
     "text": [
      "Testing svm_loss:\n",
      "loss:  8.9996027491\n",
      "dx error:  1.40215660067e-09\n",
      "\n",
      "Testing softmax_loss:\n",
      "loss:  2.3025458445\n",
      "dx error:  9.38467316199e-09\n"
     ]
    }
   ],
   "source": [
    "np.random.seed(231)\n",
    "num_classes, num_inputs = 10, 50\n",
    "x = 0.001 * np.random.randn(num_inputs, num_classes)  # generate random inputs\n",
    "y = np.random.randint(num_classes, size=num_inputs)  # generate random labels\n",
    "\n",
    "dx_num = eval_numerical_gradient(lambda x: svm_loss(x, y)[0], x, verbose=False)\n",
    "loss, dx = svm_loss(x, y)\n",
    " \n",
    "# Test svm_loss function. Loss should be around 9 and dx error should be 1e-9\n",
    "print('Testing svm_loss:')\n",
    "print('loss: ', loss)\n",
    "print('dx error: ', rel_error(dx_num, dx))\n",
    "\n",
    "dx_num = eval_numerical_gradient(lambda x: softmax_loss(x, y)[0], x, verbose=False)\n",
    "loss, dx = softmax_loss(x, y)\n",
    "\n",
    "# Test softmax_loss function. Loss should be 2.3 and dx error should be 1e-8\n",
    "print('\\nTesting softmax_loss:')\n",
    "print('loss: ', loss)\n",
    "print('dx error: ', rel_error(dx_num, dx))"
   ]
  },
  {
   "cell_type": "markdown",
   "metadata": {},
   "source": [
    "# Two-layer network\n",
    "In the previous assignment you implemented a two-layer neural network in a single monolithic class. Now that you have implemented modular versions of the necessary layers, you will reimplement the two layer network using these modular implementations.\n",
    "\n",
    "Open the file `cs231n/classifiers/fc_net.py` and complete the implementation of the `TwoLayerNet` class. This class will serve as a model for the other networks you will implement in this assignment, so read through it to make sure you understand the API. You can run the cell below to test your implementation."
   ]
  },
  {
   "cell_type": "code",
   "execution_count": 12,
   "metadata": {},
   "outputs": [
    {
     "name": "stderr",
     "output_type": "stream",
     "text": [
      "[autoreload of cs231n.classifiers.fc_net failed: Traceback (most recent call last):\n",
      "  File \"/usr/local/lib/python3.5/dist-packages/IPython/extensions/autoreload.py\", line 246, in check\n",
      "    superreload(m, reload, self.old_objects)\n",
      "  File \"/usr/local/lib/python3.5/dist-packages/IPython/extensions/autoreload.py\", line 369, in superreload\n",
      "    module = reload(module)\n",
      "  File \"/usr/lib/python3.5/imp.py\", line 314, in reload\n",
      "    return importlib.reload(module)\n",
      "  File \"/usr/lib/python3.5/importlib/__init__.py\", line 166, in reload\n",
      "    _bootstrap._exec(spec, module)\n",
      "  File \"<frozen importlib._bootstrap>\", line 626, in _exec\n",
      "  File \"<frozen importlib._bootstrap_external>\", line 661, in exec_module\n",
      "  File \"<frozen importlib._bootstrap_external>\", line 767, in get_code\n",
      "  File \"<frozen importlib._bootstrap_external>\", line 727, in source_to_code\n",
      "  File \"<frozen importlib._bootstrap>\", line 222, in _call_with_frames_removed\n",
      "  File \"/home/cs231n/cs231n-2017/assignment2/cs231n/classifiers/fc_net.py\", line 256\n",
      "    layer_number =\n",
      "                 ^\n",
      "SyntaxError: invalid syntax\n",
      "]\n"
     ]
    },
    {
     "name": "stdout",
     "output_type": "stream",
     "text": [
      "Testing initialization ... \n",
      "Testing test-time forward pass ... \n",
      "Testing training loss (no regularization)\n",
      "Running numeric gradient check with reg =  0.0\n",
      "W1 relative error: 1.83e-08\n",
      "W2 relative error: 3.12e-10\n",
      "b1 relative error: 9.83e-09\n",
      "b2 relative error: 4.33e-10\n",
      "Running numeric gradient check with reg =  0.7\n",
      "W1 relative error: 2.53e-07\n",
      "W2 relative error: 2.85e-08\n",
      "b1 relative error: 1.56e-08\n",
      "b2 relative error: 7.76e-10\n"
     ]
    }
   ],
   "source": [
    "np.random.seed(231)\n",
    "N, D, H, C = 3, 5, 50, 7\n",
    "# N = num_of_inputs, D = input_dim, H = hidden_dim, C = num_class/op_dim\n",
    "\n",
    "# generate dev data\n",
    "X = np.random.randn(N, D)\n",
    "y = np.random.randint(C, size=N)\n",
    "\n",
    "std = 1e-3\n",
    "model = TwoLayerNet(input_dim=D, hidden_dim=H, num_classes=C, weight_scale=std)\n",
    "\n",
    "print('Testing initialization ... ')\n",
    "W1_std = abs(model.params['W1'].std() - std)  # difference between std(W1) and set std\n",
    "b1 = model.params['b1']\n",
    "W2_std = abs(model.params['W2'].std() - std)\n",
    "b2 = model.params['b2']\n",
    "assert W1_std < std / 10, 'First layer weights do not seem right'\n",
    "assert np.all(b1 == 0), 'First layer biases do not seem right'  # bias should be all zeros\n",
    "assert W2_std < std / 10, 'Second layer weights do not seem right'\n",
    "assert np.all(b2 == 0), 'Second layer biases do not seem right'\n",
    "\n",
    "print('Testing test-time forward pass ... ')\n",
    "# generate some weights and biases (parameters)\n",
    "model.params['W1'] = np.linspace(-0.7, 0.3, num=D*H).reshape(D, H)\n",
    "model.params['b1'] = np.linspace(-0.1, 0.9, num=H)\n",
    "model.params['W2'] = np.linspace(-0.3, 0.4, num=H*C).reshape(H, C)\n",
    "model.params['b2'] = np.linspace(-0.9, 0.1, num=C)\n",
    "X = np.linspace(-5.5, 4.5, num=N*D).reshape(D, N).T  # some nonsense data\n",
    "scores = model.loss(X)  # calculate forward pass scores\n",
    "correct_scores = np.asarray(\n",
    "  [[11.53165108,  12.2917344,   13.05181771,  13.81190102,  14.57198434, 15.33206765,  16.09215096],\n",
    "   [12.05769098,  12.74614105,  13.43459113,  14.1230412,   14.81149128, 15.49994135,  16.18839143],\n",
    "   [12.58373087,  13.20054771,  13.81736455,  14.43418138,  15.05099822, 15.66781506,  16.2846319 ]])\n",
    "scores_diff = np.abs(scores - correct_scores).sum()\n",
    "assert scores_diff < 1e-6, 'Problem with test-time forward pass'\n",
    "\n",
    "print('Testing training loss (no regularization)')  # reg=0 by default\n",
    "y = np.asarray([0, 5, 1])\n",
    "loss, grads = model.loss(X, y)\n",
    "correct_loss = 3.4702243556\n",
    "assert abs(loss - correct_loss) < 1e-10, 'Problem with training-time loss'\n",
    "\n",
    "model.reg = 1.0\n",
    "loss, grads = model.loss(X, y)\n",
    "correct_loss = 26.5948426952\n",
    "assert abs(loss - correct_loss) < 1e-10, 'Problem with regularization loss'\n",
    "\n",
    "for reg in [0.0, 0.7]:\n",
    "  print('Running numeric gradient check with reg = ', reg)\n",
    "  model.reg = reg \n",
    "  loss, grads = model.loss(X, y)\n",
    "\n",
    "  for name in sorted(grads):\n",
    "    f = lambda _: model.loss(X, y)[0]\n",
    "    grad_num = eval_numerical_gradient(f, model.params[name], verbose=False)\n",
    "    print('%s relative error: %.2e' % (name, rel_error(grad_num, grads[name])))"
   ]
  },
  {
   "cell_type": "markdown",
   "metadata": {},
   "source": [
    "# Solver\n",
    "In the previous assignment, the logic for training models was coupled to the models themselves. Following a more modular design, for this assignment we have split the logic for training models into a separate class.\n",
    "\n",
    "Open the file `cs231n/solver.py` and read through it to familiarize yourself with the API. After doing so, use a `Solver` instance to train a `TwoLayerNet` that achieves at least `50%` accuracy on the validation set."
   ]
  },
  {
   "cell_type": "code",
   "execution_count": 16,
   "metadata": {},
   "outputs": [
    {
     "name": "stdout",
     "output_type": "stream",
     "text": [
      "(Iteration 1 / 4900) loss: 2.373082\n",
      "(Epoch 0 / 10) train acc: 0.088000; val_acc: 0.099000\n",
      "(Iteration 101 / 4900) loss: 2.327202\n",
      "(Iteration 201 / 4900) loss: 2.270027\n",
      "(Iteration 301 / 4900) loss: 2.217293\n",
      "(Iteration 401 / 4900) loss: 2.181883\n",
      "(Epoch 1 / 10) train acc: 0.313000; val_acc: 0.305000\n",
      "(Iteration 501 / 4900) loss: 2.169143\n",
      "(Iteration 601 / 4900) loss: 2.022188\n",
      "(Iteration 701 / 4900) loss: 2.132215\n",
      "(Iteration 801 / 4900) loss: 1.963482\n",
      "(Iteration 901 / 4900) loss: 1.862827\n",
      "(Epoch 2 / 10) train acc: 0.374000; val_acc: 0.366000\n",
      "(Iteration 1001 / 4900) loss: 1.817345\n",
      "(Iteration 1101 / 4900) loss: 1.943510\n",
      "(Iteration 1201 / 4900) loss: 1.854971\n",
      "(Iteration 1301 / 4900) loss: 1.880846\n",
      "(Iteration 1401 / 4900) loss: 1.809520\n",
      "(Epoch 3 / 10) train acc: 0.380000; val_acc: 0.403000\n",
      "(Iteration 1501 / 4900) loss: 1.587709\n",
      "(Iteration 1601 / 4900) loss: 1.735390\n",
      "(Iteration 1701 / 4900) loss: 1.590259\n",
      "(Iteration 1801 / 4900) loss: 1.761290\n",
      "(Iteration 1901 / 4900) loss: 1.575006\n",
      "(Epoch 4 / 10) train acc: 0.412000; val_acc: 0.435000\n",
      "(Iteration 2001 / 4900) loss: 1.714180\n",
      "(Iteration 2101 / 4900) loss: 1.618996\n",
      "(Iteration 2201 / 4900) loss: 1.594304\n",
      "(Iteration 2301 / 4900) loss: 1.758170\n",
      "(Iteration 2401 / 4900) loss: 1.665397\n",
      "(Epoch 5 / 10) train acc: 0.422000; val_acc: 0.454000\n",
      "(Iteration 2501 / 4900) loss: 1.720671\n",
      "(Iteration 2601 / 4900) loss: 1.709755\n",
      "(Iteration 2701 / 4900) loss: 1.469048\n",
      "(Iteration 2801 / 4900) loss: 1.559474\n",
      "(Iteration 2901 / 4900) loss: 1.508641\n",
      "(Epoch 6 / 10) train acc: 0.433000; val_acc: 0.462000\n",
      "(Iteration 3001 / 4900) loss: 1.801467\n",
      "(Iteration 3101 / 4900) loss: 1.705827\n",
      "(Iteration 3201 / 4900) loss: 1.665954\n",
      "(Iteration 3301 / 4900) loss: 1.489243\n",
      "(Iteration 3401 / 4900) loss: 1.626545\n",
      "(Epoch 7 / 10) train acc: 0.457000; val_acc: 0.470000\n",
      "(Iteration 3501 / 4900) loss: 1.620154\n",
      "(Iteration 3601 / 4900) loss: 1.694449\n",
      "(Iteration 3701 / 4900) loss: 1.752513\n",
      "(Iteration 3801 / 4900) loss: 1.555295\n",
      "(Iteration 3901 / 4900) loss: 1.652912\n",
      "(Epoch 8 / 10) train acc: 0.498000; val_acc: 0.470000\n",
      "(Iteration 4001 / 4900) loss: 1.479994\n",
      "(Iteration 4101 / 4900) loss: 1.489677\n",
      "(Iteration 4201 / 4900) loss: 1.668669\n",
      "(Iteration 4301 / 4900) loss: 1.544011\n",
      "(Iteration 4401 / 4900) loss: 1.505381\n",
      "(Epoch 9 / 10) train acc: 0.492000; val_acc: 0.482000\n",
      "(Iteration 4501 / 4900) loss: 1.599908\n",
      "(Iteration 4601 / 4900) loss: 1.652472\n",
      "(Iteration 4701 / 4900) loss: 1.597475\n",
      "(Iteration 4801 / 4900) loss: 1.465853\n",
      "(Epoch 10 / 10) train acc: 0.478000; val_acc: 0.481000\n"
     ]
    }
   ],
   "source": [
    "##############################################################################\n",
    "# TODO: Use a Solver instance to train a TwoLayerNet that achieves at least  #\n",
    "# 50% accuracy on the validation set.                                        #\n",
    "##############################################################################\n",
    "\"\"\"\n",
    "Define the model:\n",
    "- input_dim: An integer giving the size of the input\n",
    "- hidden_dim: An integer giving the size of the hidden layer\n",
    "- num_classes: An integer giving the number of classes to classify\n",
    "- dropout: Scalar between 0 and 1 giving dropout strength.\n",
    "- weight_scale: Scalar giving the standard deviation for random\n",
    "  initialization of the weights.\n",
    "- reg: Scalar giving L2 regularization strength.\n",
    "\"\"\"\n",
    "D = np.asarray(data['X_test'].shape[1:]).prod()\n",
    "\n",
    "model = TwoLayerNet(input_dim=D,\n",
    "                   hidden_dim=150,\n",
    "                   num_classes=10,\n",
    "                   weight_scale=1e-3,\n",
    "                   reg = 0.3\n",
    "                   )\n",
    "\n",
    "\n",
    "\"\"\"\n",
    "Solver parameters and hyperparameters:\n",
    "- update_rule: sgd\n",
    "- optim_config: learning_rate (for sgd)\n",
    "- lr_decay: 1.0\n",
    "- batch_size: 100\n",
    "- num_epochs: 10\n",
    "- num_train_examples: 1000\n",
    "- num_val_examples: None (meaning use all)\n",
    "\"\"\"\n",
    "\n",
    "optim_config_dict = {'learning_rate':1e-4}\n",
    "solver = Solver(model, data, \n",
    "                num_epochs=10,\n",
    "                optim_config=optim_config_dict,\n",
    "               print_every=100\n",
    "               )\n",
    "solver.train()\n",
    "\n",
    "##############################################################################\n",
    "#                             END OF YOUR CODE                               #\n",
    "##############################################################################"
   ]
  },
  {
   "cell_type": "code",
   "execution_count": 16,
   "metadata": {},
   "outputs": [
    {
     "data": {
      "image/png": "[encoded data removed]",
      "text/plain": [
       "<matplotlib.figure.Figure at 0x7f0b4feec7b8>"
      ]
     },
     "metadata": {},
     "output_type": "display_data"
    }
   ],
   "source": [
    "# Run this cell to visualize training loss and train / val accuracy\n",
    "\n",
    "plt.subplot(2, 1, 1)\n",
    "plt.title('Training loss')\n",
    "plt.plot(solver.loss_history, 'o')\n",
    "plt.xlabel('Iteration')\n",
    "\n",
    "plt.subplot(2, 1, 2)\n",
    "plt.title('Accuracy')\n",
    "plt.plot(solver.train_acc_history, '-o', label='train')\n",
    "plt.plot(solver.val_acc_history, '-o', label='val')\n",
    "plt.plot([0.5] * len(solver.val_acc_history), 'k--')\n",
    "plt.xlabel('Epoch')\n",
    "plt.legend(loc='lower right')\n",
    "plt.gcf().set_size_inches(15, 12)\n",
    "plt.show()"
   ]
  },
  {
   "cell_type": "markdown",
   "metadata": {},
   "source": [
    "# Multilayer network\n",
    "Next you will implement a fully-connected network with an arbitrary number of hidden layers.\n",
    "\n",
    "Read through the `FullyConnectedNet` class in the file `cs231n/classifiers/fc_net.py`.\n",
    "\n",
    "Implement the initialization, the forward pass, and the backward pass. For the moment don't worry about implementing dropout or batch normalization; we will add those features soon."
   ]
  },
  {
   "cell_type": "markdown",
   "metadata": {},
   "source": [
    "## Initial loss and gradient check"
   ]
  },
  {
   "cell_type": "markdown",
   "metadata": {},
   "source": [
    "As a sanity check, run the following to check the initial loss and to gradient check the network both with and without regularization. Do the initial losses seem reasonable?\n",
    "\n",
    "For gradient checking, you should expect to see errors around 1e-6 or less."
   ]
  },
  {
   "cell_type": "code",
   "execution_count": 28,
   "metadata": {},
   "outputs": [
    {
     "name": "stdout",
     "output_type": "stream",
     "text": [
      "Running check with reg =  0\n",
      "Initial loss:  2.30047908977\n",
      "W1 relative error: 1.48e-07\n",
      "W2 relative error: 2.21e-05\n",
      "W3 relative error: 3.53e-07\n",
      "b1 relative error: 5.38e-09\n",
      "b2 relative error: 2.09e-09\n",
      "b3 relative error: 5.80e-11\n",
      "Running check with reg =  3.14\n",
      "Initial loss:  7.05211477653\n",
      "W1 relative error: 6.86e-09\n",
      "W2 relative error: 3.52e-08\n",
      "W3 relative error: 1.32e-08\n",
      "b1 relative error: 1.48e-08\n",
      "b2 relative error: 1.72e-09\n",
      "b3 relative error: 1.80e-10\n"
     ]
    }
   ],
   "source": [
    "np.random.seed(231)\n",
    "N, D, H1, H2, C = 2, 15, 20, 30, 10  # dev parameters\n",
    "hidden_dims = [H1, H2]\n",
    "\n",
    "# dev data\n",
    "X = np.random.randn(N, D)\n",
    "y = np.random.randint(C, size=(N,))\n",
    "\n",
    "for reg in [0, 3.14]:\n",
    "  print('Running check with reg = ', reg)\n",
    "  model = FullyConnectedNet(hidden_dims, input_dim=D, num_classes=C,\n",
    "                            reg=reg, weight_scale=5e-2, dtype=np.float64)\n",
    "\n",
    "  loss, grads = model.loss(X, y)\n",
    "  print('Initial loss: ', loss)\n",
    "\n",
    "  for name in sorted(grads):\n",
    "    f = lambda _: model.loss(X, y)[0]\n",
    "    grad_num = eval_numerical_gradient(f, model.params[name], verbose=False, h=1e-5)\n",
    "    print('%s relative error: %.2e' % (name, rel_error(grad_num, grads[name])))"
   ]
  },
  {
   "cell_type": "markdown",
   "metadata": {},
   "source": [
    "As another sanity check, make sure you can overfit a small dataset of 50 images. First we will try a three-layer network with 100 units in each hidden layer. You will need to tweak the learning rate and initialization scale, but you should be able to overfit and achieve 100% training accuracy within 20 epochs."
   ]
  },
  {
   "cell_type": "code",
   "execution_count": 106,
   "metadata": {
    "scrolled": false
   },
   "outputs": [
    {
     "name": "stdout",
     "output_type": "stream",
     "text": [
      "(Iteration 1 / 40) loss: 2.301002\n",
      "(Epoch 0 / 20) train acc: 0.300000; val_acc: 0.112000\n",
      "(Epoch 1 / 20) train acc: 0.320000; val_acc: 0.128000\n",
      "(Epoch 2 / 20) train acc: 0.360000; val_acc: 0.143000\n",
      "(Epoch 3 / 20) train acc: 0.480000; val_acc: 0.167000\n",
      "(Epoch 4 / 20) train acc: 0.620000; val_acc: 0.186000\n",
      "(Epoch 5 / 20) train acc: 0.700000; val_acc: 0.170000\n",
      "(Iteration 11 / 40) loss: 1.545239\n",
      "(Epoch 6 / 20) train acc: 0.720000; val_acc: 0.193000\n",
      "(Epoch 7 / 20) train acc: 0.740000; val_acc: 0.183000\n",
      "(Epoch 8 / 20) train acc: 0.860000; val_acc: 0.161000\n",
      "(Epoch 9 / 20) train acc: 0.800000; val_acc: 0.173000\n",
      "(Epoch 10 / 20) train acc: 0.760000; val_acc: 0.176000\n",
      "(Iteration 21 / 40) loss: 0.900770\n",
      "(Epoch 11 / 20) train acc: 0.920000; val_acc: 0.183000\n",
      "(Epoch 12 / 20) train acc: 0.680000; val_acc: 0.119000\n",
      "(Epoch 13 / 20) train acc: 0.900000; val_acc: 0.184000\n",
      "(Epoch 14 / 20) train acc: 0.960000; val_acc: 0.189000\n",
      "(Epoch 15 / 20) train acc: 0.960000; val_acc: 0.179000\n",
      "(Iteration 31 / 40) loss: 0.350700\n",
      "(Epoch 16 / 20) train acc: 0.980000; val_acc: 0.186000\n",
      "(Epoch 17 / 20) train acc: 0.960000; val_acc: 0.194000\n",
      "(Epoch 18 / 20) train acc: 1.000000; val_acc: 0.184000\n",
      "(Epoch 19 / 20) train acc: 1.000000; val_acc: 0.188000\n",
      "(Epoch 20 / 20) train acc: 1.000000; val_acc: 0.180000\n"
     ]
    },
    {
     "data": {
      "image/png": "[encoded data removed]",
      "text/plain": [
       "<matplotlib.figure.Figure at 0x7f4c54163c18>"
      ]
     },
     "metadata": {},
     "output_type": "display_data"
    }
   ],
   "source": [
    "# TODO: Use a three-layer Net to overfit 50 training examples.\n",
    "\n",
    "num_train = 50\n",
    "small_data = {\n",
    "  'X_train': data['X_train'][:num_train],\n",
    "  'y_train': data['y_train'][:num_train],\n",
    "  'X_val': data['X_val'],\n",
    "  'y_val': data['y_val'],\n",
    "}\n",
    "\n",
    "weight_scale = 1e-2\n",
    "learning_rate = 1e-2\n",
    "model = FullyConnectedNet([100, 100],\n",
    "              weight_scale=weight_scale, dtype=np.float64)\n",
    "solver = Solver(model, small_data,\n",
    "                print_every=10, num_epochs=20, batch_size=25,\n",
    "                update_rule='sgd',\n",
    "                optim_config={\n",
    "                  'learning_rate': learning_rate,\n",
    "                }\n",
    "         )\n",
    "solver.train()\n",
    "\n",
    "plt.plot(solver.loss_history, 'o')\n",
    "plt.title('Training loss history')\n",
    "plt.xlabel('Iteration')\n",
    "plt.ylabel('Training loss')\n",
    "plt.show()"
   ]
  },
  {
   "cell_type": "markdown",
   "metadata": {},
   "source": [
    "Now try to use a five-layer network with 100 units on each layer to overfit 50 training examples. Again you will have to adjust the learning rate and weight initialization, but you should be able to achieve 100% training accuracy within 20 epochs."
   ]
  },
  {
   "cell_type": "code",
   "execution_count": 111,
   "metadata": {},
   "outputs": [
    {
     "name": "stderr",
     "output_type": "stream",
     "text": [
      "/home/cs231n/cs231n-2017/assignment2/cs231n/layers.py:112: RuntimeWarning: invalid value encountered in less\n",
      "  dx[x < 0] = 0\n"
     ]
    },
    {
     "name": "stdout",
     "output_type": "stream",
     "text": [
      "parameters: 1/81\n",
      "lr =  0.1 ws= 0.1 last 3 train_acc:  [0.080000000000000002, 0.080000000000000002, 0.080000000000000002]\n",
      "parameters: 2/81\n",
      "lr =  0.1 ws= 0.01 last 3 train_acc:  [0.16, 0.16, 0.16]\n",
      "parameters: 3/81\n",
      "lr =  0.1 ws= 0.001 last 3 train_acc:  [0.16, 0.16, 0.16]\n",
      "parameters: 4/81\n",
      "lr =  0.1 ws= 0.0001 last 3 train_acc:  [0.16, 0.16, 0.16]\n",
      "parameters: 5/81\n",
      "lr =  0.1 ws= 1e-05 last 3 train_acc:  [0.16, 0.16, 0.16]\n",
      "parameters: 6/81\n",
      "lr =  0.1 ws= 1e-06 last 3 train_acc:  [0.16, 0.16, 0.16]\n",
      "parameters: 7/81\n",
      "lr =  0.1 ws= 1e-07 last 3 train_acc:  [0.16, 0.16, 0.16]\n",
      "parameters: 8/81\n",
      "lr =  0.1 ws= 1e-08 last 3 train_acc:  [0.16, 0.16, 0.16]\n",
      "parameters: 9/81\n",
      "lr =  0.1 ws= 1e-09 last 3 train_acc:  [0.16, 0.16, 0.16]\n",
      "parameters: 10/81\n",
      "lr =  0.01 ws= 0.1 last 3 train_acc:  [0.12, 0.12, 0.12]\n",
      "parameters: 11/81\n",
      "lr =  0.01 ws= 0.01 last 3 train_acc:  [0.17999999999999999, 0.26000000000000001, 0.17999999999999999]\n",
      "parameters: 12/81\n",
      "lr =  0.01 ws= 0.001 last 3 train_acc:  [0.16, 0.16, 0.16]\n",
      "parameters: 13/81\n",
      "lr =  0.01 ws= 0.0001 last 3 train_acc:  [0.16, 0.16, 0.16]\n",
      "parameters: 14/81\n",
      "lr =  0.01 ws= 1e-05 last 3 train_acc:  [0.16, 0.16, 0.16]\n",
      "parameters: 15/81\n",
      "lr =  0.01 ws= 1e-06 last 3 train_acc:  [0.16, 0.16, 0.16]\n",
      "parameters: 16/81\n",
      "lr =  0.01 ws= 1e-07 last 3 train_acc:  [0.16, 0.16, 0.16]\n",
      "parameters: 17/81\n",
      "lr =  0.01 ws= 1e-08 last 3 train_acc:  [0.16, 0.16, 0.16]\n",
      "parameters: 18/81\n",
      "lr =  0.01 ws= 1e-09 last 3 train_acc:  [0.16, 0.16, 0.16]\n",
      "parameters: 19/81\n",
      "lr =  0.001 ws= 0.1 last 3 train_acc:  [1.0, 1.0, 1.0]\n",
      "parameters: 20/81\n",
      "lr =  0.001 ws= 0.01 last 3 train_acc:  [0.16, 0.16, 0.16]\n",
      "parameters: 21/81\n",
      "lr =  0.001 ws= 0.001 last 3 train_acc:  [0.16, 0.16, 0.16]\n",
      "parameters: 22/81\n",
      "lr =  0.001 ws= 0.0001 last 3 train_acc:  [0.16, 0.16, 0.16]\n",
      "parameters: 23/81\n",
      "lr =  0.001 ws= 1e-05 last 3 train_acc:  [0.16, 0.16, 0.16]\n",
      "parameters: 24/81\n",
      "lr =  0.001 ws= 1e-06 last 3 train_acc:  [0.16, 0.16, 0.16]\n",
      "parameters: 25/81\n",
      "lr =  0.001 ws= 1e-07 last 3 train_acc:  [0.16, 0.16, 0.16]\n",
      "parameters: 26/81\n",
      "lr =  0.001 ws= 1e-08 last 3 train_acc:  [0.16, 0.16, 0.16]\n",
      "parameters: 27/81\n",
      "lr =  0.001 ws= 1e-09 last 3 train_acc:  [0.16, 0.16, 0.16]\n",
      "parameters: 28/81\n",
      "lr =  0.0001 ws= 0.1 last 3 train_acc:  [0.85999999999999999, 0.90000000000000002, 0.92000000000000004]\n",
      "parameters: 29/81\n",
      "lr =  0.0001 ws= 0.01 last 3 train_acc:  [0.14000000000000001, 0.14000000000000001, 0.14000000000000001]\n",
      "parameters: 30/81\n",
      "lr =  0.0001 ws= 0.001 last 3 train_acc:  [0.16, 0.16, 0.16]\n",
      "parameters: 31/81\n",
      "lr =  0.0001 ws= 0.0001 last 3 train_acc:  [0.16, 0.16, 0.16]\n",
      "parameters: 32/81\n",
      "lr =  0.0001 ws= 1e-05 last 3 train_acc:  [0.16, 0.16, 0.16]\n",
      "parameters: 33/81\n",
      "lr =  0.0001 ws= 1e-06 last 3 train_acc:  [0.16, 0.16, 0.16]\n",
      "parameters: 34/81\n",
      "lr =  0.0001 ws= 1e-07 last 3 train_acc:  [0.16, 0.16, 0.16]\n",
      "parameters: 35/81\n",
      "lr =  0.0001 ws= 1e-08 last 3 train_acc:  [0.16, 0.16, 0.16]\n",
      "parameters: 36/81\n",
      "lr =  0.0001 ws= 1e-09 last 3 train_acc:  [0.16, 0.16, 0.16]\n",
      "parameters: 37/81\n",
      "lr =  1e-05 ws= 0.1 last 3 train_acc:  [0.20000000000000001, 0.16, 0.20000000000000001]\n",
      "parameters: 38/81\n",
      "lr =  1e-05 ws= 0.01 last 3 train_acc:  [0.14000000000000001, 0.14000000000000001, 0.14000000000000001]\n",
      "parameters: 39/81\n",
      "lr =  1e-05 ws= 0.001 last 3 train_acc:  [0.16, 0.16, 0.16]\n",
      "parameters: 40/81\n",
      "lr =  1e-05 ws= 0.0001 last 3 train_acc:  [0.16, 0.16, 0.16]\n",
      "parameters: 41/81\n",
      "lr =  1e-05 ws= 1e-05 last 3 train_acc:  [0.16, 0.16, 0.16]\n",
      "parameters: 42/81\n",
      "lr =  1e-05 ws= 1e-06 last 3 train_acc:  [0.16, 0.16, 0.16]\n",
      "parameters: 43/81\n",
      "lr =  1e-05 ws= 1e-07 last 3 train_acc:  [0.16, 0.16, 0.16]\n",
      "parameters: 44/81\n",
      "lr =  1e-05 ws= 1e-08 last 3 train_acc:  [0.16, 0.16, 0.16]\n",
      "parameters: 45/81\n",
      "lr =  1e-05 ws= 1e-09 last 3 train_acc:  [0.16, 0.16, 0.16]\n",
      "parameters: 46/81\n",
      "lr =  1e-06 ws= 0.1 last 3 train_acc:  [0.059999999999999998, 0.059999999999999998, 0.059999999999999998]\n",
      "parameters: 47/81\n",
      "lr =  1e-06 ws= 0.01 last 3 train_acc:  [0.20000000000000001, 0.20000000000000001, 0.20000000000000001]\n",
      "parameters: 48/81\n",
      "lr =  1e-06 ws= 0.001 last 3 train_acc:  [0.16, 0.16, 0.16]\n",
      "parameters: 49/81\n",
      "lr =  1e-06 ws= 0.0001 last 3 train_acc:  [0.16, 0.16, 0.16]\n",
      "parameters: 50/81\n",
      "lr =  1e-06 ws= 1e-05 last 3 train_acc:  [0.16, 0.16, 0.16]\n",
      "parameters: 51/81\n",
      "lr =  1e-06 ws= 1e-06 last 3 train_acc:  [0.16, 0.16, 0.16]\n",
      "parameters: 52/81\n",
      "lr =  1e-06 ws= 1e-07 last 3 train_acc:  [0.16, 0.16, 0.16]\n",
      "parameters: 53/81\n",
      "lr =  1e-06 ws= 1e-08 last 3 train_acc:  [0.16, 0.16, 0.16]\n",
      "parameters: 54/81\n",
      "lr =  1e-06 ws= 1e-09 last 3 train_acc:  [0.16, 0.16, 0.16]\n",
      "parameters: 55/81\n",
      "lr =  1e-07 ws= 0.1 last 3 train_acc:  [0.14000000000000001, 0.14000000000000001, 0.14000000000000001]\n",
      "parameters: 56/81\n",
      "lr =  1e-07 ws= 0.01 last 3 train_acc:  [0.059999999999999998, 0.059999999999999998, 0.059999999999999998]\n",
      "parameters: 57/81\n",
      "lr =  1e-07 ws= 0.001 last 3 train_acc:  [0.14000000000000001, 0.14000000000000001, 0.16]\n",
      "parameters: 58/81\n",
      "lr =  1e-07 ws= 0.0001 last 3 train_acc:  [0.16, 0.16, 0.16]\n",
      "parameters: 59/81\n",
      "lr =  1e-07 ws= 1e-05 last 3 train_acc:  [0.16, 0.16, 0.16]\n",
      "parameters: 60/81\n",
      "lr =  1e-07 ws= 1e-06 last 3 train_acc:  [0.16, 0.16, 0.16]\n",
      "parameters: 61/81\n",
      "lr =  1e-07 ws= 1e-07 last 3 train_acc:  [0.16, 0.16, 0.16]\n",
      "parameters: 62/81\n",
      "lr =  1e-07 ws= 1e-08 last 3 train_acc:  [0.16, 0.16, 0.16]\n",
      "parameters: 63/81\n",
      "lr =  1e-07 ws= 1e-09 last 3 train_acc:  [0.16, 0.16, 0.16]\n",
      "parameters: 64/81\n",
      "lr =  1e-08 ws= 0.1 last 3 train_acc:  [0.14000000000000001, 0.14000000000000001, 0.14000000000000001]\n",
      "parameters: 65/81\n",
      "lr =  1e-08 ws= 0.01 last 3 train_acc:  [0.040000000000000001, 0.040000000000000001, 0.040000000000000001]\n",
      "parameters: 66/81\n",
      "lr =  1e-08 ws= 0.001 last 3 train_acc:  [0.12, 0.12, 0.16]\n",
      "parameters: 67/81\n",
      "lr =  1e-08 ws= 0.0001 last 3 train_acc:  [0.16, 0.16, 0.16]\n",
      "parameters: 68/81\n",
      "lr =  1e-08 ws= 1e-05 last 3 train_acc:  [0.16, 0.16, 0.16]\n",
      "parameters: 69/81\n",
      "lr =  1e-08 ws= 1e-06 last 3 train_acc:  [0.16, 0.16, 0.16]\n",
      "parameters: 70/81\n",
      "lr =  1e-08 ws= 1e-07 last 3 train_acc:  [0.16, 0.16, 0.16]\n",
      "parameters: 71/81\n",
      "lr =  1e-08 ws= 1e-08 last 3 train_acc:  [0.16, 0.16, 0.16]\n",
      "parameters: 72/81\n",
      "lr =  1e-08 ws= 1e-09 last 3 train_acc:  [0.16, 0.16, 0.16]\n",
      "parameters: 73/81\n",
      "lr =  1e-09 ws= 0.1 last 3 train_acc:  [0.059999999999999998, 0.059999999999999998, 0.059999999999999998]\n",
      "parameters: 74/81\n",
      "lr =  1e-09 ws= 0.01 last 3 train_acc:  [0.080000000000000002, 0.080000000000000002, 0.080000000000000002]\n",
      "parameters: 75/81\n",
      "lr =  1e-09 ws= 0.001 last 3 train_acc:  [0.080000000000000002, 0.080000000000000002, 0.080000000000000002]\n",
      "parameters: 76/81\n",
      "lr =  1e-09 ws= 0.0001 last 3 train_acc:  [0.16, 0.16, 0.16]\n",
      "parameters: 77/81\n",
      "lr =  1e-09 ws= 1e-05 last 3 train_acc:  [0.16, 0.16, 0.22]\n",
      "parameters: 78/81\n",
      "lr =  1e-09 ws= 1e-06 last 3 train_acc:  [0.16, 0.16, 0.16]\n",
      "parameters: 79/81\n",
      "lr =  1e-09 ws= 1e-07 last 3 train_acc:  [0.16, 0.16, 0.16]\n",
      "parameters: 80/81\n",
      "lr =  1e-09 ws= 1e-08 last 3 train_acc:  [0.16, 0.16, 0.16]\n",
      "parameters: 81/81\n",
      "lr =  1e-09 ws= 1e-09 last 3 train_acc:  [0.16, 0.16, 0.16]\n"
     ]
    }
   ],
   "source": [
    "# TODO: Use a five-layer Net to overfit 50 training examples.\n",
    "\n",
    "num_train = 50\n",
    "small_data = {\n",
    "  'X_train': data['X_train'][:num_train],\n",
    "  'y_train': data['y_train'][:num_train],\n",
    "  'X_val': data['X_val'],\n",
    "  'y_val': data['y_val'],\n",
    "}\n",
    "\n",
    "# grid search to find the lr and weight_scale\n",
    "pows = -1 * (np.arange(9) + 1)\n",
    "learning_rates = np.power(10.0, pows)\n",
    "weight_scales = learning_rates\n",
    "num_params = len(learning_rates) * len(weight_scales)\n",
    "params_count = 1\n",
    "\n",
    "# best hyper-parameter set:\n",
    "# learning_rate = 1e-3\n",
    "# weight_scale = 0.1\n",
    "\n",
    "for learning_rate in learning_rates:\n",
    "    for weight_scale in weight_scales:\n",
    "        \n",
    "        model = FullyConnectedNet([100, 100, 100, 100],\n",
    "                        weight_scale=weight_scale, dtype=np.float64)\n",
    "        solver = Solver(model, small_data,\n",
    "                        print_every=10, num_epochs=20, batch_size=25,\n",
    "                        update_rule='sgd',\n",
    "                        verbose=False,\n",
    "                        optim_config={\n",
    "                          'learning_rate': learning_rate,\n",
    "                        }\n",
    "                 )\n",
    "        solver.train()\n",
    "        print(\"parameters: %d/%d\" % (params_count, num_params))\n",
    "        print(\"lr = \", learning_rate, \"ws=\", weight_scale, \"last 3 train_acc: \", solver.train_acc_history[-3:])\n",
    "        params_count += 1\n",
    "        \n",
    "# plt.plot(solver.loss_history, 'o')\n",
    "# plt.title('Training loss history')\n",
    "# plt.xlabel('Iteration')\n",
    "# plt.ylabel('Training loss')\n",
    "# plt.show()"
   ]
  },
  {
   "cell_type": "markdown",
   "metadata": {},
   "source": [
    "\\[2017 Nov 2\\]  \n",
    "**My note**:  \n",
    "Best hyper-parameters that achieved overfitiing are:\n",
    "- For 3-layer net: learning rate = $10^{-2}$, weight_scale = $10^{-2}$\n",
    "- For 5-layer net: learning rate = $10^{-3}$, weight_scale = $0.1$"
   ]
  },
  {
   "cell_type": "markdown",
   "metadata": {},
   "source": [
    "# Inline question: \n",
    "Did you notice anything about the comparative difficulty of training the three-layer net vs training the five layer net?\n",
    "\n",
    "# Answer:\n",
    "It seems that a 5-layer net is more sensitive to the choice of hyper-parameters than a 3-layer net.   \n",
    "Most sets of (learning rate, weight_scale) does not work well on 5-layer net.\n"
   ]
  },
  {
   "cell_type": "markdown",
   "metadata": {},
   "source": [
    "# Update rules\n",
    "So far we have used vanilla stochastic gradient descent (SGD) as our update rule. More sophisticated update rules can make it easier to train deep networks. We will implement a few of the most commonly used update rules and compare them to vanilla SGD."
   ]
  },
  {
   "cell_type": "markdown",
   "metadata": {},
   "source": [
    "# SGD+Momentum\n",
    "Stochastic gradient descent with momentum is a widely used update rule that tends to make deep networks converge faster than vanilla stochstic gradient descent.\n",
    "\n",
    "Open the file `cs231n/optim.py` and read the documentation at the top of the file to make sure you understand the API. Implement the SGD+momentum update rule in the function `sgd_momentum` and run the following to check your implementation. You should see errors less than 1e-8."
   ]
  },
  {
   "cell_type": "markdown",
   "metadata": {},
   "source": [
    "Change made  \n",
    "next_w error:  8.88234703351e-09  \n",
    "velocity error:  4.26928774328e-09  "
   ]
  },
  {
   "cell_type": "code",
   "execution_count": 20,
   "metadata": {},
   "outputs": [
    {
     "name": "stdout",
     "output_type": "stream",
     "text": [
      "changed back\n",
      "next_w error:  8.88234703351e-09\n",
      "velocity error:  4.26928774328e-09\n"
     ]
    }
   ],
   "source": [
    "from cs231n.optim import sgd_momentum\n",
    "\n",
    "N, D = 4, 5\n",
    "w = np.linspace(-0.4, 0.6, num=N*D).reshape(N, D)\n",
    "dw = np.linspace(-0.6, 0.4, num=N*D).reshape(N, D)\n",
    "v = np.linspace(0.6, 0.9, num=N*D).reshape(N, D)\n",
    "\n",
    "config = {'learning_rate': 1e-3, 'velocity': v}\n",
    "next_w, _ = sgd_momentum(w, dw, config=config)\n",
    "\n",
    "expected_next_w = np.asarray([\n",
    "  [ 0.1406,      0.20738947,  0.27417895,  0.34096842,  0.40775789],\n",
    "  [ 0.47454737,  0.54133684,  0.60812632,  0.67491579,  0.74170526],\n",
    "  [ 0.80849474,  0.87528421,  0.94207368,  1.00886316,  1.07565263],\n",
    "  [ 1.14244211,  1.20923158,  1.27602105,  1.34281053,  1.4096    ]])\n",
    "expected_velocity = np.asarray([\n",
    "  [ 0.5406,      0.55475789,  0.56891579, 0.58307368,  0.59723158],\n",
    "  [ 0.61138947,  0.62554737,  0.63970526,  0.65386316,  0.66802105],\n",
    "  [ 0.68217895,  0.69633684,  0.71049474,  0.72465263,  0.73881053],\n",
    "  [ 0.75296842,  0.76712632,  0.78128421,  0.79544211,  0.8096    ]])\n",
    "\n",
    "print('next_w error: ', rel_error(next_w, expected_next_w))\n",
    "print('velocity error: ', rel_error(expected_velocity, config['velocity']))"
   ]
  },
  {
   "cell_type": "markdown",
   "metadata": {},
   "source": [
    "Once you have done so, run the following to train a six-layer network with both SGD and SGD+momentum. You should see the SGD+momentum update rule converge faster."
   ]
  },
  {
   "cell_type": "code",
   "execution_count": null,
   "metadata": {
    "collapsed": true,
    "scrolled": false
   },
   "outputs": [],
   "source": [
    "num_train = 4000\n",
    "small_data = {\n",
    "  'X_train': data['X_train'][:num_train],\n",
    "  'y_train': data['y_train'][:num_train],\n",
    "  'X_val': data['X_val'],\n",
    "  'y_val': data['y_val'],\n",
    "}\n",
    "\n",
    "solvers = {}\n",
    "\n",
    "for update_rule in ['sgd', 'sgd_momentum']:\n",
    "  print('running with ', update_rule)\n",
    "  model = FullyConnectedNet([100, 100, 100, 100, 100], weight_scale=5e-2)\n",
    "\n",
    "  solver = Solver(model, small_data,\n",
    "                  num_epochs=5, batch_size=100,\n",
    "                  update_rule=update_rule,\n",
    "                  optim_config={\n",
    "                    'learning_rate': 1e-2,\n",
    "                  },\n",
    "                  verbose=True)\n",
    "  solvers[update_rule] = solver\n",
    "  solver.train()\n",
    "  print()\n",
    "\n",
    "plt.subplot(3, 1, 1)\n",
    "plt.title('Training loss')\n",
    "plt.xlabel('Iteration')\n",
    "\n",
    "plt.subplot(3, 1, 2)\n",
    "plt.title('Training accuracy')\n",
    "plt.xlabel('Epoch')\n",
    "\n",
    "plt.subplot(3, 1, 3)\n",
    "plt.title('Validation accuracy')\n",
    "plt.xlabel('Epoch')\n",
    "\n",
    "for update_rule, solver in list(solvers.items()):\n",
    "  plt.subplot(3, 1, 1)\n",
    "  plt.plot(solver.loss_history, 'o', label=update_rule)\n",
    "  \n",
    "  plt.subplot(3, 1, 2)\n",
    "  plt.plot(solver.train_acc_history, '-o', label=update_rule)\n",
    "\n",
    "  plt.subplot(3, 1, 3)\n",
    "  plt.plot(solver.val_acc_history, '-o', label=update_rule)\n",
    "  \n",
    "for i in [1, 2, 3]:\n",
    "  plt.subplot(3, 1, i)\n",
    "  plt.legend(loc='upper center', ncol=4)\n",
    "plt.gcf().set_size_inches(15, 15)\n",
    "plt.show()"
   ]
  },
  {
   "cell_type": "markdown",
   "metadata": {},
   "source": [
    "# RMSProp and Adam\n",
    "RMSProp [1] and Adam [2] are update rules that set per-parameter learning rates by using a running average of the second moments of gradients.\n",
    "\n",
    "In the file `cs231n/optim.py`, implement the RMSProp update rule in the `rmsprop` function and implement the Adam update rule in the `adam` function, and check your implementations using the tests below.\n",
    "\n",
    "[1] Tijmen Tieleman and Geoffrey Hinton. \"Lecture 6.5-rmsprop: Divide the gradient by a running average of its recent magnitude.\" COURSERA: Neural Networks for Machine Learning 4 (2012).\n",
    "\n",
    "[2] Diederik Kingma and Jimmy Ba, \"Adam: A Method for Stochastic Optimization\", ICLR 2015."
   ]
  },
  {
   "cell_type": "code",
   "execution_count": 21,
   "metadata": {},
   "outputs": [
    {
     "name": "stdout",
     "output_type": "stream",
     "text": [
      "next_w error:  9.52468751104e-08\n",
      "cache error:  2.64779558072e-09\n"
     ]
    }
   ],
   "source": [
    "# Test RMSProp implementation; you should see errors less than 1e-7\n",
    "from cs231n.optim import rmsprop\n",
    "\n",
    "N, D = 4, 5\n",
    "w = np.linspace(-0.4, 0.6, num=N*D).reshape(N, D)\n",
    "dw = np.linspace(-0.6, 0.4, num=N*D).reshape(N, D)\n",
    "cache = np.linspace(0.6, 0.9, num=N*D).reshape(N, D)\n",
    "\n",
    "config = {'learning_rate': 1e-2, 'cache': cache}\n",
    "next_w, _ = rmsprop(w, dw, config=config)\n",
    "\n",
    "expected_next_w = np.asarray([\n",
    "  [-0.39223849, -0.34037513, -0.28849239, -0.23659121, -0.18467247],\n",
    "  [-0.132737,   -0.08078555, -0.02881884,  0.02316247,  0.07515774],\n",
    "  [ 0.12716641,  0.17918792,  0.23122175,  0.28326742,  0.33532447],\n",
    "  [ 0.38739248,  0.43947102,  0.49155973,  0.54365823,  0.59576619]])\n",
    "expected_cache = np.asarray([\n",
    "  [ 0.5976,      0.6126277,   0.6277108,   0.64284931,  0.65804321],\n",
    "  [ 0.67329252,  0.68859723,  0.70395734,  0.71937285,  0.73484377],\n",
    "  [ 0.75037008,  0.7659518,   0.78158892,  0.79728144,  0.81302936],\n",
    "  [ 0.82883269,  0.84469141,  0.86060554,  0.87657507,  0.8926    ]])\n",
    "\n",
    "print('next_w error: ', rel_error(expected_next_w, next_w))\n",
    "print('cache error: ', rel_error(expected_cache, config['cache']))"
   ]
  },
  {
   "cell_type": "code",
   "execution_count": 35,
   "metadata": {},
   "outputs": [
    {
     "name": "stdout",
     "output_type": "stream",
     "text": [
      "2\n",
      "2\n",
      "2\n",
      "2\n",
      "2\n",
      "next_w error:  1.0\n",
      "v error:  0.999998481177\n",
      "m error:  1.0\n"
     ]
    }
   ],
   "source": [
    "# Test Adam implementation; you should see errors around 1e-7 or less\n",
    "from cs231n.optim import adam\n",
    "\n",
    "N, D = 4, 5\n",
    "w = np.linspace(-0.4, 0.6, num=N*D).reshape(N, D)\n",
    "dw = np.linspace(-0.6, 0.4, num=N*D).reshape(N, D)\n",
    "m = np.linspace(0.6, 0.9, num=N*D).reshape(N, D)\n",
    "v = np.linspace(0.7, 0.5, num=N*D).reshape(N, D)\n",
    "\n",
    "config = {'learning_rate': 1e-2, 'm': m, 'v': v, 't': 5}\n",
    "next_w, _ = adam(w, dw, config=config)\n",
    "   \n",
    "expected_next_w = np.asarray([\n",
    "  [-0.40094747, -0.34836187, -0.29577703, -0.24319299, -0.19060977],\n",
    "  [-0.1380274,  -0.08544591, -0.03286534,  0.01971428,  0.0722929],\n",
    "  [ 0.1248705,   0.17744702,  0.23002243,  0.28259667,  0.33516969],\n",
    "  [ 0.38774145,  0.44031188,  0.49288093,  0.54544852,  0.59801459]])\n",
    "expected_v = np.asarray([\n",
    "  [ 0.69966,     0.68908382,  0.67851319,  0.66794809,  0.65738853,],\n",
    "  [ 0.64683452,  0.63628604,  0.6257431,   0.61520571,  0.60467385,],\n",
    "  [ 0.59414753,  0.58362676,  0.57311152,  0.56260183,  0.55209767,],\n",
    "  [ 0.54159906,  0.53110598,  0.52061845,  0.51013645,  0.49966,   ]])\n",
    "expected_m = np.asarray([\n",
    "  [ 0.48,        0.49947368,  0.51894737,  0.53842105,  0.55789474],\n",
    "  [ 0.57736842,  0.59684211,  0.61631579,  0.63578947,  0.65526316],\n",
    "  [ 0.67473684,  0.69421053,  0.71368421,  0.73315789,  0.75263158],\n",
    "  [ 0.77210526,  0.79157895,  0.81105263,  0.83052632,  0.85      ]])\n",
    "\n",
    "print('next_w error: ', rel_error(expected_next_w, next_w))\n",
    "print('v error: ', rel_error(expected_v, config['v']))\n",
    "print('m error: ', rel_error(expected_m, config['m']))"
   ]
  },
  {
   "cell_type": "markdown",
   "metadata": {},
   "source": [
    "Once you have debugged your RMSProp and Adam implementations, run the following to train a pair of deep networks using these new update rules:"
   ]
  },
  {
   "cell_type": "code",
   "execution_count": null,
   "metadata": {
    "collapsed": true
   },
   "outputs": [],
   "source": [
    "learning_rates = {'rmsprop': 1e-4, 'adam': 1e-3}\n",
    "for update_rule in ['adam', 'rmsprop']:\n",
    "  print('running with ', update_rule)\n",
    "  model = FullyConnectedNet([100, 100, 100, 100, 100], weight_scale=5e-2)\n",
    "\n",
    "  solver = Solver(model, small_data,\n",
    "                  num_epochs=5, batch_size=100,\n",
    "                  update_rule=update_rule,\n",
    "                  optim_config={\n",
    "                    'learning_rate': learning_rates[update_rule]\n",
    "                  },\n",
    "                  verbose=True)\n",
    "  solvers[update_rule] = solver\n",
    "  solver.train()\n",
    "  print()\n",
    "\n",
    "plt.subplot(3, 1, 1)\n",
    "plt.title('Training loss')\n",
    "plt.xlabel('Iteration')\n",
    "\n",
    "plt.subplot(3, 1, 2)\n",
    "plt.title('Training accuracy')\n",
    "plt.xlabel('Epoch')\n",
    "\n",
    "plt.subplot(3, 1, 3)\n",
    "plt.title('Validation accuracy')\n",
    "plt.xlabel('Epoch')\n",
    "\n",
    "for update_rule, solver in list(solvers.items()):\n",
    "  plt.subplot(3, 1, 1)\n",
    "  plt.plot(solver.loss_history, 'o', label=update_rule)\n",
    "  \n",
    "  plt.subplot(3, 1, 2)\n",
    "  plt.plot(solver.train_acc_history, '-o', label=update_rule)\n",
    "\n",
    "  plt.subplot(3, 1, 3)\n",
    "  plt.plot(solver.val_acc_history, '-o', label=update_rule)\n",
    "  \n",
    "for i in [1, 2, 3]:\n",
    "  plt.subplot(3, 1, i)\n",
    "  plt.legend(loc='upper center', ncol=4)\n",
    "plt.gcf().set_size_inches(15, 15)\n",
    "plt.show()"
   ]
  },
  {
   "cell_type": "markdown",
   "metadata": {},
   "source": [
    "# Train a good model!\n",
    "Train the best fully-connected model that you can on CIFAR-10, storing your best model in the `best_model` variable. We require you to get at least 50% accuracy on the validation set using a fully-connected net.\n",
    "\n",
    "If you are careful it should be possible to get accuracies above 55%, but we don't require it for this part and won't assign extra credit for doing so. Later in the assignment we will ask you to train the best convolutional network that you can on CIFAR-10, and we would prefer that you spend your effort working on convolutional nets rather than fully-connected nets.\n",
    "\n",
    "You might find it useful to complete the `BatchNormalization.ipynb` and `Dropout.ipynb` notebooks before completing this part, since those techniques can help you train powerful models."
   ]
  },
  {
   "cell_type": "code",
   "execution_count": null,
   "metadata": {
    "collapsed": true,
    "scrolled": false
   },
   "outputs": [],
   "source": [
    "best_model = None\n",
    "################################################################################\n",
    "# TODO: Train the best FullyConnectedNet that you can on CIFAR-10. You might   #\n",
    "# batch normalization and dropout useful. Store your best model in the         #\n",
    "# best_model variable.                                                         #\n",
    "################################################################################\n",
    "pass\n",
    "################################################################################\n",
    "#                              END OF YOUR CODE                                #\n",
    "################################################################################"
   ]
  },
  {
   "cell_type": "markdown",
   "metadata": {},
   "source": [
    "# Test you model\n",
    "Run your best model on the validation and test sets. You should achieve above 50% accuracy on the validation set."
   ]
  },
  {
   "cell_type": "code",
   "execution_count": null,
   "metadata": {
    "collapsed": true
   },
   "outputs": [],
   "source": [
    "y_test_pred = np.argmax(best_model.loss(data['X_test']), axis=1)\n",
    "y_val_pred = np.argmax(best_model.loss(data['X_val']), axis=1)\n",
    "print('Validation set accuracy: ', (y_val_pred == data['y_val']).mean())\n",
    "print('Test set accuracy: ', (y_test_pred == data['y_test']).mean())"
   ]
  }
 ],
 "metadata": {
  "kernelspec": {
   "display_name": "Python 3",
   "language": "python",
   "name": "python3"
  },
  "language_info": {
   "codemirror_mode": {
    "name": "ipython",
    "version": 3
   },
   "file_extension": ".py",
   "mimetype": "text/x-python",
   "name": "python",
   "nbconvert_exporter": "python",
   "pygments_lexer": "ipython3",
   "version": "3.5.2"
  }
 },
 "nbformat": 4,
 "nbformat_minor": 1
}
